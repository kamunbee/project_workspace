{
 "cells": [
  {
   "cell_type": "code",
   "execution_count": 1,
   "metadata": {},
   "outputs": [],
   "source": [
    "import pandas as pd\n",
    "import matplotlib.pyplot as plt\n",
    "import datetime\n",
    "import seaborn as sns\n",
    "import numpy as np\n",
    "\n",
    "import requests\n",
    "from bs4 import BeautifulSoup\n",
    "import re\n",
    "import time\n",
    "import os\n",
    "\n",
    "# 그래프 설정\n",
    "plt.rcParams['font.family'] = 'Malgun Gothic'\n",
    "# plt.rcParams['font.family'] = 'AppleGothic'\n",
    "plt.rcParams['font.size'] = 16\n",
    "plt.rcParams['figure.figsize'] = 20, 10\n",
    "plt.rcParams['axes.unicode_minus'] = False\n"
   ]
  },
  {
   "cell_type": "code",
   "execution_count": 2,
   "metadata": {},
   "outputs": [],
   "source": [
    "pitcher = pd.read_csv('data10/picher_stats_2017.csv')\n",
    "batter = pd.read_csv('data10/batter_stats_2017.csv')"
   ]
  },
  {
   "cell_type": "code",
   "execution_count": 3,
   "metadata": {},
   "outputs": [
    {
     "name": "stdout",
     "output_type": "stream",
     "text": [
      "<class 'pandas.core.frame.DataFrame'>\n",
      "RangeIndex: 152 entries, 0 to 151\n",
      "Data columns (total 22 columns):\n",
      " #   Column    Non-Null Count  Dtype  \n",
      "---  ------    --------------  -----  \n",
      " 0   선수명       152 non-null    object \n",
      " 1   팀명        152 non-null    object \n",
      " 2   승         152 non-null    int64  \n",
      " 3   패         152 non-null    int64  \n",
      " 4   세         152 non-null    int64  \n",
      " 5   홀드        152 non-null    int64  \n",
      " 6   블론        152 non-null    int64  \n",
      " 7   경기        152 non-null    int64  \n",
      " 8   선발        152 non-null    int64  \n",
      " 9   이닝        152 non-null    float64\n",
      " 10  삼진/9      152 non-null    float64\n",
      " 11  볼넷/9      152 non-null    float64\n",
      " 12  홈런/9      152 non-null    float64\n",
      " 13  BABIP     152 non-null    float64\n",
      " 14  LOB%      152 non-null    float64\n",
      " 15  ERA       152 non-null    float64\n",
      " 16  RA9-WAR   152 non-null    float64\n",
      " 17  FIP       152 non-null    float64\n",
      " 18  kFIP      152 non-null    float64\n",
      " 19  WAR       152 non-null    float64\n",
      " 20  연봉(2018)  152 non-null    int64  \n",
      " 21  연봉(2017)  152 non-null    int64  \n",
      "dtypes: float64(11), int64(9), object(2)\n",
      "memory usage: 26.2+ KB\n"
     ]
    }
   ],
   "source": [
    "pitcher.info()\n"
   ]
  },
  {
   "cell_type": "code",
   "execution_count": 4,
   "metadata": {},
   "outputs": [
    {
     "data": {
      "text/plain": [
       "선수명         0\n",
       "팀명          0\n",
       "승           0\n",
       "패           0\n",
       "세           0\n",
       "홀드          0\n",
       "블론          0\n",
       "경기          0\n",
       "선발          0\n",
       "이닝          0\n",
       "삼진/9        0\n",
       "볼넷/9        0\n",
       "홈런/9        0\n",
       "BABIP       0\n",
       "LOB%        0\n",
       "ERA         0\n",
       "RA9-WAR     0\n",
       "FIP         0\n",
       "kFIP        0\n",
       "WAR         0\n",
       "연봉(2018)    0\n",
       "연봉(2017)    0\n",
       "dtype: int64"
      ]
     },
     "execution_count": 4,
     "metadata": {},
     "output_type": "execute_result"
    }
   ],
   "source": [
    "pitcher.isna().sum()\n"
   ]
  },
  {
   "cell_type": "code",
   "execution_count": 5,
   "metadata": {},
   "outputs": [
    {
     "name": "stdout",
     "output_type": "stream",
     "text": [
      "<class 'pandas.core.frame.DataFrame'>\n",
      "RangeIndex: 191 entries, 0 to 190\n",
      "Data columns (total 21 columns):\n",
      " #   Column    Non-Null Count  Dtype  \n",
      "---  ------    --------------  -----  \n",
      " 0   선수명       191 non-null    object \n",
      " 1   팀명        191 non-null    object \n",
      " 2   경기        191 non-null    int64  \n",
      " 3   타석        191 non-null    int64  \n",
      " 4   타수        191 non-null    int64  \n",
      " 5   안타        191 non-null    int64  \n",
      " 6   홈런        191 non-null    int64  \n",
      " 7   득점        191 non-null    int64  \n",
      " 8   타점        191 non-null    int64  \n",
      " 9   볼넷        191 non-null    int64  \n",
      " 10  삼진        191 non-null    int64  \n",
      " 11  도루        191 non-null    int64  \n",
      " 12  BABIP     191 non-null    object \n",
      " 13  타율        191 non-null    float64\n",
      " 14  출루율       191 non-null    float64\n",
      " 15  장타율       191 non-null    float64\n",
      " 16  OPS       191 non-null    float64\n",
      " 17  wOBA      191 non-null    float64\n",
      " 18  WAR       191 non-null    float64\n",
      " 19  연봉(2018)  191 non-null    int64  \n",
      " 20  연봉(2017)  191 non-null    int64  \n",
      "dtypes: float64(6), int64(12), object(3)\n",
      "memory usage: 31.5+ KB\n"
     ]
    }
   ],
   "source": [
    "batter.info()\n"
   ]
  },
  {
   "cell_type": "code",
   "execution_count": 6,
   "metadata": {},
   "outputs": [
    {
     "data": {
      "text/plain": [
       "선수명         0\n",
       "팀명          0\n",
       "경기          0\n",
       "타석          0\n",
       "타수          0\n",
       "안타          0\n",
       "홈런          0\n",
       "득점          0\n",
       "타점          0\n",
       "볼넷          0\n",
       "삼진          0\n",
       "도루          0\n",
       "BABIP       0\n",
       "타율          0\n",
       "출루율         0\n",
       "장타율         0\n",
       "OPS         0\n",
       "wOBA        0\n",
       "WAR         0\n",
       "연봉(2018)    0\n",
       "연봉(2017)    0\n",
       "dtype: int64"
      ]
     },
     "execution_count": 6,
     "metadata": {},
     "output_type": "execute_result"
    }
   ],
   "source": [
    "batter.isna().sum()\n"
   ]
  },
  {
   "cell_type": "markdown",
   "metadata": {},
   "source": [
    "## 연봉에 대한 정보"
   ]
  },
  {
   "cell_type": "code",
   "execution_count": 7,
   "metadata": {},
   "outputs": [
    {
     "data": {
      "text/plain": [
       "count       152.000000\n",
       "mean      18932.236842\n",
       "std       30940.732924\n",
       "min        2700.000000\n",
       "25%        4000.000000\n",
       "50%        7550.000000\n",
       "75%       18500.000000\n",
       "max      230000.000000\n",
       "Name: 연봉(2018), dtype: float64"
      ]
     },
     "execution_count": 7,
     "metadata": {},
     "output_type": "execute_result"
    }
   ],
   "source": [
    "pitcher['연봉(2018)'].describe()\n"
   ]
  },
  {
   "cell_type": "code",
   "execution_count": 8,
   "metadata": {},
   "outputs": [
    {
     "data": {
      "text/plain": [
       "0      140000\n",
       "1      120000\n",
       "2      230000\n",
       "3      100000\n",
       "4      111000\n",
       "        ...  \n",
       "147      7100\n",
       "148      7500\n",
       "149     10000\n",
       "150      4000\n",
       "151      4000\n",
       "Name: 연봉(2018), Length: 152, dtype: int64"
      ]
     },
     "execution_count": 8,
     "metadata": {},
     "output_type": "execute_result"
    }
   ],
   "source": [
    "pitcher['연봉(2018)']"
   ]
  },
  {
   "cell_type": "code",
   "execution_count": 9,
   "metadata": {},
   "outputs": [
    {
     "data": {
      "text/html": [
       "<div>\n",
       "<style scoped>\n",
       "    .dataframe tbody tr th:only-of-type {\n",
       "        vertical-align: middle;\n",
       "    }\n",
       "\n",
       "    .dataframe tbody tr th {\n",
       "        vertical-align: top;\n",
       "    }\n",
       "\n",
       "    .dataframe thead th {\n",
       "        text-align: right;\n",
       "    }\n",
       "</style>\n",
       "<table border=\"1\" class=\"dataframe\">\n",
       "  <thead>\n",
       "    <tr style=\"text-align: right;\">\n",
       "      <th></th>\n",
       "      <th>선수명</th>\n",
       "      <th>팀명</th>\n",
       "      <th>승</th>\n",
       "      <th>패</th>\n",
       "      <th>세</th>\n",
       "      <th>홀드</th>\n",
       "      <th>블론</th>\n",
       "      <th>경기</th>\n",
       "      <th>선발</th>\n",
       "      <th>이닝</th>\n",
       "      <th>...</th>\n",
       "      <th>홈런/9</th>\n",
       "      <th>BABIP</th>\n",
       "      <th>LOB%</th>\n",
       "      <th>ERA</th>\n",
       "      <th>RA9-WAR</th>\n",
       "      <th>FIP</th>\n",
       "      <th>kFIP</th>\n",
       "      <th>WAR</th>\n",
       "      <th>연봉(2018)</th>\n",
       "      <th>연봉(2017)</th>\n",
       "    </tr>\n",
       "  </thead>\n",
       "  <tbody>\n",
       "    <tr>\n",
       "      <th>2</th>\n",
       "      <td>양현종</td>\n",
       "      <td>KIA</td>\n",
       "      <td>20</td>\n",
       "      <td>6</td>\n",
       "      <td>0</td>\n",
       "      <td>0</td>\n",
       "      <td>0</td>\n",
       "      <td>31</td>\n",
       "      <td>31</td>\n",
       "      <td>193.1</td>\n",
       "      <td>...</td>\n",
       "      <td>0.79</td>\n",
       "      <td>0.332</td>\n",
       "      <td>72.1</td>\n",
       "      <td>3.44</td>\n",
       "      <td>6.54</td>\n",
       "      <td>3.94</td>\n",
       "      <td>3.82</td>\n",
       "      <td>5.64</td>\n",
       "      <td>230000</td>\n",
       "      <td>150000</td>\n",
       "    </tr>\n",
       "    <tr>\n",
       "      <th>0</th>\n",
       "      <td>켈리</td>\n",
       "      <td>SK</td>\n",
       "      <td>16</td>\n",
       "      <td>7</td>\n",
       "      <td>0</td>\n",
       "      <td>0</td>\n",
       "      <td>0</td>\n",
       "      <td>30</td>\n",
       "      <td>30</td>\n",
       "      <td>190.0</td>\n",
       "      <td>...</td>\n",
       "      <td>0.76</td>\n",
       "      <td>0.342</td>\n",
       "      <td>73.7</td>\n",
       "      <td>3.60</td>\n",
       "      <td>6.91</td>\n",
       "      <td>3.69</td>\n",
       "      <td>3.44</td>\n",
       "      <td>6.62</td>\n",
       "      <td>140000</td>\n",
       "      <td>85000</td>\n",
       "    </tr>\n",
       "    <tr>\n",
       "      <th>1</th>\n",
       "      <td>소사</td>\n",
       "      <td>LG</td>\n",
       "      <td>11</td>\n",
       "      <td>11</td>\n",
       "      <td>1</td>\n",
       "      <td>0</td>\n",
       "      <td>0</td>\n",
       "      <td>30</td>\n",
       "      <td>29</td>\n",
       "      <td>185.1</td>\n",
       "      <td>...</td>\n",
       "      <td>0.53</td>\n",
       "      <td>0.319</td>\n",
       "      <td>67.1</td>\n",
       "      <td>3.88</td>\n",
       "      <td>6.80</td>\n",
       "      <td>3.52</td>\n",
       "      <td>3.41</td>\n",
       "      <td>6.08</td>\n",
       "      <td>120000</td>\n",
       "      <td>50000</td>\n",
       "    </tr>\n",
       "    <tr>\n",
       "      <th>20</th>\n",
       "      <td>정우람</td>\n",
       "      <td>한화</td>\n",
       "      <td>6</td>\n",
       "      <td>4</td>\n",
       "      <td>26</td>\n",
       "      <td>0</td>\n",
       "      <td>5</td>\n",
       "      <td>56</td>\n",
       "      <td>0</td>\n",
       "      <td>59.0</td>\n",
       "      <td>...</td>\n",
       "      <td>0.76</td>\n",
       "      <td>0.304</td>\n",
       "      <td>79.4</td>\n",
       "      <td>2.75</td>\n",
       "      <td>2.85</td>\n",
       "      <td>3.26</td>\n",
       "      <td>2.69</td>\n",
       "      <td>1.81</td>\n",
       "      <td>120000</td>\n",
       "      <td>120000</td>\n",
       "    </tr>\n",
       "    <tr>\n",
       "      <th>4</th>\n",
       "      <td>레일리</td>\n",
       "      <td>롯데</td>\n",
       "      <td>13</td>\n",
       "      <td>7</td>\n",
       "      <td>0</td>\n",
       "      <td>0</td>\n",
       "      <td>0</td>\n",
       "      <td>30</td>\n",
       "      <td>30</td>\n",
       "      <td>187.1</td>\n",
       "      <td>...</td>\n",
       "      <td>0.91</td>\n",
       "      <td>0.323</td>\n",
       "      <td>74.1</td>\n",
       "      <td>3.80</td>\n",
       "      <td>6.13</td>\n",
       "      <td>4.36</td>\n",
       "      <td>4.31</td>\n",
       "      <td>4.38</td>\n",
       "      <td>111000</td>\n",
       "      <td>85000</td>\n",
       "    </tr>\n",
       "    <tr>\n",
       "      <th>...</th>\n",
       "      <td>...</td>\n",
       "      <td>...</td>\n",
       "      <td>...</td>\n",
       "      <td>...</td>\n",
       "      <td>...</td>\n",
       "      <td>...</td>\n",
       "      <td>...</td>\n",
       "      <td>...</td>\n",
       "      <td>...</td>\n",
       "      <td>...</td>\n",
       "      <td>...</td>\n",
       "      <td>...</td>\n",
       "      <td>...</td>\n",
       "      <td>...</td>\n",
       "      <td>...</td>\n",
       "      <td>...</td>\n",
       "      <td>...</td>\n",
       "      <td>...</td>\n",
       "      <td>...</td>\n",
       "      <td>...</td>\n",
       "      <td>...</td>\n",
       "    </tr>\n",
       "    <tr>\n",
       "      <th>82</th>\n",
       "      <td>장지훈</td>\n",
       "      <td>삼성</td>\n",
       "      <td>0</td>\n",
       "      <td>0</td>\n",
       "      <td>0</td>\n",
       "      <td>0</td>\n",
       "      <td>0</td>\n",
       "      <td>4</td>\n",
       "      <td>0</td>\n",
       "      <td>2.1</td>\n",
       "      <td>...</td>\n",
       "      <td>0.00</td>\n",
       "      <td>0.500</td>\n",
       "      <td>100.0</td>\n",
       "      <td>0.00</td>\n",
       "      <td>0.09</td>\n",
       "      <td>0.73</td>\n",
       "      <td>-0.69</td>\n",
       "      <td>0.08</td>\n",
       "      <td>2800</td>\n",
       "      <td>2700</td>\n",
       "    </tr>\n",
       "    <tr>\n",
       "      <th>89</th>\n",
       "      <td>차재용</td>\n",
       "      <td>롯데</td>\n",
       "      <td>0</td>\n",
       "      <td>0</td>\n",
       "      <td>0</td>\n",
       "      <td>0</td>\n",
       "      <td>0</td>\n",
       "      <td>3</td>\n",
       "      <td>0</td>\n",
       "      <td>2.1</td>\n",
       "      <td>...</td>\n",
       "      <td>0.00</td>\n",
       "      <td>0.167</td>\n",
       "      <td>100.0</td>\n",
       "      <td>0.00</td>\n",
       "      <td>0.08</td>\n",
       "      <td>2.02</td>\n",
       "      <td>1.83</td>\n",
       "      <td>0.05</td>\n",
       "      <td>2800</td>\n",
       "      <td>2800</td>\n",
       "    </tr>\n",
       "    <tr>\n",
       "      <th>103</th>\n",
       "      <td>성영훈</td>\n",
       "      <td>두산</td>\n",
       "      <td>0</td>\n",
       "      <td>0</td>\n",
       "      <td>0</td>\n",
       "      <td>0</td>\n",
       "      <td>0</td>\n",
       "      <td>1</td>\n",
       "      <td>0</td>\n",
       "      <td>1.0</td>\n",
       "      <td>...</td>\n",
       "      <td>0.00</td>\n",
       "      <td>0.000</td>\n",
       "      <td>100.0</td>\n",
       "      <td>0.00</td>\n",
       "      <td>0.04</td>\n",
       "      <td>6.73</td>\n",
       "      <td>7.64</td>\n",
       "      <td>-0.01</td>\n",
       "      <td>2700</td>\n",
       "      <td>2700</td>\n",
       "    </tr>\n",
       "    <tr>\n",
       "      <th>115</th>\n",
       "      <td>정동윤</td>\n",
       "      <td>SK</td>\n",
       "      <td>0</td>\n",
       "      <td>0</td>\n",
       "      <td>0</td>\n",
       "      <td>0</td>\n",
       "      <td>0</td>\n",
       "      <td>2</td>\n",
       "      <td>0</td>\n",
       "      <td>3.0</td>\n",
       "      <td>...</td>\n",
       "      <td>3.00</td>\n",
       "      <td>0.364</td>\n",
       "      <td>71.4</td>\n",
       "      <td>9.00</td>\n",
       "      <td>-0.03</td>\n",
       "      <td>9.40</td>\n",
       "      <td>10.05</td>\n",
       "      <td>-0.07</td>\n",
       "      <td>2700</td>\n",
       "      <td>2700</td>\n",
       "    </tr>\n",
       "    <tr>\n",
       "      <th>93</th>\n",
       "      <td>장민익</td>\n",
       "      <td>두산</td>\n",
       "      <td>0</td>\n",
       "      <td>0</td>\n",
       "      <td>0</td>\n",
       "      <td>0</td>\n",
       "      <td>0</td>\n",
       "      <td>3</td>\n",
       "      <td>0</td>\n",
       "      <td>2.0</td>\n",
       "      <td>...</td>\n",
       "      <td>0.00</td>\n",
       "      <td>0.000</td>\n",
       "      <td>100.0</td>\n",
       "      <td>0.00</td>\n",
       "      <td>0.08</td>\n",
       "      <td>4.73</td>\n",
       "      <td>4.61</td>\n",
       "      <td>0.02</td>\n",
       "      <td>2700</td>\n",
       "      <td>2700</td>\n",
       "    </tr>\n",
       "  </tbody>\n",
       "</table>\n",
       "<p>152 rows × 22 columns</p>\n",
       "</div>"
      ],
      "text/plain": [
       "     선수명   팀명   승   패   세  홀드  블론  경기  선발     이닝  ...  홈런/9  BABIP   LOB%  \\\n",
       "2    양현종  KIA  20   6   0   0   0  31  31  193.1  ...  0.79  0.332   72.1   \n",
       "0     켈리   SK  16   7   0   0   0  30  30  190.0  ...  0.76  0.342   73.7   \n",
       "1     소사   LG  11  11   1   0   0  30  29  185.1  ...  0.53  0.319   67.1   \n",
       "20   정우람   한화   6   4  26   0   5  56   0   59.0  ...  0.76  0.304   79.4   \n",
       "4    레일리   롯데  13   7   0   0   0  30  30  187.1  ...  0.91  0.323   74.1   \n",
       "..   ...  ...  ..  ..  ..  ..  ..  ..  ..    ...  ...   ...    ...    ...   \n",
       "82   장지훈   삼성   0   0   0   0   0   4   0    2.1  ...  0.00  0.500  100.0   \n",
       "89   차재용   롯데   0   0   0   0   0   3   0    2.1  ...  0.00  0.167  100.0   \n",
       "103  성영훈   두산   0   0   0   0   0   1   0    1.0  ...  0.00  0.000  100.0   \n",
       "115  정동윤   SK   0   0   0   0   0   2   0    3.0  ...  3.00  0.364   71.4   \n",
       "93   장민익   두산   0   0   0   0   0   3   0    2.0  ...  0.00  0.000  100.0   \n",
       "\n",
       "      ERA  RA9-WAR   FIP   kFIP   WAR  연봉(2018)  연봉(2017)  \n",
       "2    3.44     6.54  3.94   3.82  5.64    230000    150000  \n",
       "0    3.60     6.91  3.69   3.44  6.62    140000     85000  \n",
       "1    3.88     6.80  3.52   3.41  6.08    120000     50000  \n",
       "20   2.75     2.85  3.26   2.69  1.81    120000    120000  \n",
       "4    3.80     6.13  4.36   4.31  4.38    111000     85000  \n",
       "..    ...      ...   ...    ...   ...       ...       ...  \n",
       "82   0.00     0.09  0.73  -0.69  0.08      2800      2700  \n",
       "89   0.00     0.08  2.02   1.83  0.05      2800      2800  \n",
       "103  0.00     0.04  6.73   7.64 -0.01      2700      2700  \n",
       "115  9.00    -0.03  9.40  10.05 -0.07      2700      2700  \n",
       "93   0.00     0.08  4.73   4.61  0.02      2700      2700  \n",
       "\n",
       "[152 rows x 22 columns]"
      ]
     },
     "execution_count": 9,
     "metadata": {},
     "output_type": "execute_result"
    }
   ],
   "source": [
    "pitcher.sort_values(by='연봉(2018)', ascending=False)\n"
   ]
  },
  {
   "cell_type": "code",
   "execution_count": 10,
   "metadata": {},
   "outputs": [
    {
     "data": {
      "image/png": "[encoded data removed]",
      "text/plain": [
       "<Figure size 1440x720 with 1 Axes>"
      ]
     },
     "metadata": {
      "needs_background": "light"
     },
     "output_type": "display_data"
    }
   ],
   "source": [
    "pitcher['연봉(2018)'].hist(bins=100)\n",
    "plt.show()\n"
   ]
  },
  {
   "cell_type": "code",
   "execution_count": 11,
   "metadata": {},
   "outputs": [
    {
     "data": {
      "text/plain": [
       "4000      9\n",
       "3000      9\n",
       "6000      6\n",
       "2900      5\n",
       "4200      4\n",
       "         ..\n",
       "7300      1\n",
       "16000     1\n",
       "60000     1\n",
       "5500      1\n",
       "230000    1\n",
       "Name: 연봉(2018), Length: 67, dtype: int64"
      ]
     },
     "execution_count": 11,
     "metadata": {},
     "output_type": "execute_result"
    }
   ],
   "source": [
    "pitcher['연봉(2018)'].value_counts()"
   ]
  },
  {
   "cell_type": "code",
   "execution_count": 12,
   "metadata": {},
   "outputs": [
    {
     "data": {
      "text/plain": [
       "count       191.000000\n",
       "mean      20625.654450\n",
       "std       31978.855209\n",
       "min        2700.000000\n",
       "25%        4200.000000\n",
       "50%        7500.000000\n",
       "75%       25000.000000\n",
       "max      250000.000000\n",
       "Name: 연봉(2018), dtype: float64"
      ]
     },
     "execution_count": 12,
     "metadata": {},
     "output_type": "execute_result"
    }
   ],
   "source": [
    "batter['연봉(2018)'].describe()"
   ]
  },
  {
   "cell_type": "code",
   "execution_count": 13,
   "metadata": {},
   "outputs": [
    {
     "data": {
      "text/html": [
       "<div>\n",
       "<style scoped>\n",
       "    .dataframe tbody tr th:only-of-type {\n",
       "        vertical-align: middle;\n",
       "    }\n",
       "\n",
       "    .dataframe tbody tr th {\n",
       "        vertical-align: top;\n",
       "    }\n",
       "\n",
       "    .dataframe thead th {\n",
       "        text-align: right;\n",
       "    }\n",
       "</style>\n",
       "<table border=\"1\" class=\"dataframe\">\n",
       "  <thead>\n",
       "    <tr style=\"text-align: right;\">\n",
       "      <th></th>\n",
       "      <th>선수명</th>\n",
       "      <th>팀명</th>\n",
       "      <th>경기</th>\n",
       "      <th>타석</th>\n",
       "      <th>타수</th>\n",
       "      <th>안타</th>\n",
       "      <th>홈런</th>\n",
       "      <th>득점</th>\n",
       "      <th>타점</th>\n",
       "      <th>볼넷</th>\n",
       "      <th>...</th>\n",
       "      <th>도루</th>\n",
       "      <th>BABIP</th>\n",
       "      <th>타율</th>\n",
       "      <th>출루율</th>\n",
       "      <th>장타율</th>\n",
       "      <th>OPS</th>\n",
       "      <th>wOBA</th>\n",
       "      <th>WAR</th>\n",
       "      <th>연봉(2018)</th>\n",
       "      <th>연봉(2017)</th>\n",
       "    </tr>\n",
       "  </thead>\n",
       "  <tbody>\n",
       "    <tr>\n",
       "      <th>16</th>\n",
       "      <td>이대호</td>\n",
       "      <td>롯데</td>\n",
       "      <td>142</td>\n",
       "      <td>608</td>\n",
       "      <td>540</td>\n",
       "      <td>173</td>\n",
       "      <td>34</td>\n",
       "      <td>73</td>\n",
       "      <td>111</td>\n",
       "      <td>50</td>\n",
       "      <td>...</td>\n",
       "      <td>1</td>\n",
       "      <td>0.327</td>\n",
       "      <td>0.320</td>\n",
       "      <td>0.391</td>\n",
       "      <td>0.533</td>\n",
       "      <td>0.924</td>\n",
       "      <td>0.388</td>\n",
       "      <td>3.86</td>\n",
       "      <td>250000</td>\n",
       "      <td>250000</td>\n",
       "    </tr>\n",
       "    <tr>\n",
       "      <th>22</th>\n",
       "      <td>김태균</td>\n",
       "      <td>한화</td>\n",
       "      <td>94</td>\n",
       "      <td>407</td>\n",
       "      <td>356</td>\n",
       "      <td>121</td>\n",
       "      <td>17</td>\n",
       "      <td>51</td>\n",
       "      <td>76</td>\n",
       "      <td>43</td>\n",
       "      <td>...</td>\n",
       "      <td>0</td>\n",
       "      <td>0.362</td>\n",
       "      <td>0.340</td>\n",
       "      <td>0.413</td>\n",
       "      <td>0.545</td>\n",
       "      <td>0.958</td>\n",
       "      <td>0.401</td>\n",
       "      <td>2.96</td>\n",
       "      <td>160000</td>\n",
       "      <td>160000</td>\n",
       "    </tr>\n",
       "    <tr>\n",
       "      <th>1</th>\n",
       "      <td>최형우</td>\n",
       "      <td>KIA</td>\n",
       "      <td>142</td>\n",
       "      <td>629</td>\n",
       "      <td>514</td>\n",
       "      <td>176</td>\n",
       "      <td>26</td>\n",
       "      <td>98</td>\n",
       "      <td>120</td>\n",
       "      <td>96</td>\n",
       "      <td>...</td>\n",
       "      <td>0</td>\n",
       "      <td>0.362</td>\n",
       "      <td>0.342</td>\n",
       "      <td>0.450</td>\n",
       "      <td>0.576</td>\n",
       "      <td>1.026</td>\n",
       "      <td>0.430</td>\n",
       "      <td>7.20</td>\n",
       "      <td>150000</td>\n",
       "      <td>150000</td>\n",
       "    </tr>\n",
       "    <tr>\n",
       "      <th>4</th>\n",
       "      <td>손아섭</td>\n",
       "      <td>롯데</td>\n",
       "      <td>144</td>\n",
       "      <td>667</td>\n",
       "      <td>576</td>\n",
       "      <td>193</td>\n",
       "      <td>20</td>\n",
       "      <td>113</td>\n",
       "      <td>80</td>\n",
       "      <td>83</td>\n",
       "      <td>...</td>\n",
       "      <td>25</td>\n",
       "      <td>0.374</td>\n",
       "      <td>0.335</td>\n",
       "      <td>0.420</td>\n",
       "      <td>0.514</td>\n",
       "      <td>0.934</td>\n",
       "      <td>0.398</td>\n",
       "      <td>5.60</td>\n",
       "      <td>150000</td>\n",
       "      <td>65000</td>\n",
       "    </tr>\n",
       "    <tr>\n",
       "      <th>10</th>\n",
       "      <td>러프</td>\n",
       "      <td>삼성</td>\n",
       "      <td>134</td>\n",
       "      <td>591</td>\n",
       "      <td>515</td>\n",
       "      <td>162</td>\n",
       "      <td>31</td>\n",
       "      <td>90</td>\n",
       "      <td>124</td>\n",
       "      <td>60</td>\n",
       "      <td>...</td>\n",
       "      <td>2</td>\n",
       "      <td>0.344</td>\n",
       "      <td>0.315</td>\n",
       "      <td>0.396</td>\n",
       "      <td>0.569</td>\n",
       "      <td>0.965</td>\n",
       "      <td>0.402</td>\n",
       "      <td>4.59</td>\n",
       "      <td>140000</td>\n",
       "      <td>110000</td>\n",
       "    </tr>\n",
       "    <tr>\n",
       "      <th>...</th>\n",
       "      <td>...</td>\n",
       "      <td>...</td>\n",
       "      <td>...</td>\n",
       "      <td>...</td>\n",
       "      <td>...</td>\n",
       "      <td>...</td>\n",
       "      <td>...</td>\n",
       "      <td>...</td>\n",
       "      <td>...</td>\n",
       "      <td>...</td>\n",
       "      <td>...</td>\n",
       "      <td>...</td>\n",
       "      <td>...</td>\n",
       "      <td>...</td>\n",
       "      <td>...</td>\n",
       "      <td>...</td>\n",
       "      <td>...</td>\n",
       "      <td>...</td>\n",
       "      <td>...</td>\n",
       "      <td>...</td>\n",
       "      <td>...</td>\n",
       "    </tr>\n",
       "    <tr>\n",
       "      <th>120</th>\n",
       "      <td>이우성</td>\n",
       "      <td>두산</td>\n",
       "      <td>2</td>\n",
       "      <td>2</td>\n",
       "      <td>2</td>\n",
       "      <td>0</td>\n",
       "      <td>0</td>\n",
       "      <td>0</td>\n",
       "      <td>0</td>\n",
       "      <td>0</td>\n",
       "      <td>...</td>\n",
       "      <td>0</td>\n",
       "      <td>0</td>\n",
       "      <td>0.000</td>\n",
       "      <td>0.000</td>\n",
       "      <td>0.000</td>\n",
       "      <td>0.000</td>\n",
       "      <td>0.000</td>\n",
       "      <td>-0.07</td>\n",
       "      <td>2800</td>\n",
       "      <td>2800</td>\n",
       "    </tr>\n",
       "    <tr>\n",
       "      <th>104</th>\n",
       "      <td>박유연</td>\n",
       "      <td>두산</td>\n",
       "      <td>3</td>\n",
       "      <td>3</td>\n",
       "      <td>3</td>\n",
       "      <td>1</td>\n",
       "      <td>0</td>\n",
       "      <td>0</td>\n",
       "      <td>0</td>\n",
       "      <td>0</td>\n",
       "      <td>...</td>\n",
       "      <td>0</td>\n",
       "      <td>1</td>\n",
       "      <td>0.333</td>\n",
       "      <td>0.333</td>\n",
       "      <td>0.333</td>\n",
       "      <td>0.666</td>\n",
       "      <td>0.299</td>\n",
       "      <td>0.00</td>\n",
       "      <td>2800</td>\n",
       "      <td>2700</td>\n",
       "    </tr>\n",
       "    <tr>\n",
       "      <th>147</th>\n",
       "      <td>신진호</td>\n",
       "      <td>NC</td>\n",
       "      <td>9</td>\n",
       "      <td>12</td>\n",
       "      <td>12</td>\n",
       "      <td>1</td>\n",
       "      <td>0</td>\n",
       "      <td>1</td>\n",
       "      <td>0</td>\n",
       "      <td>0</td>\n",
       "      <td>...</td>\n",
       "      <td>0</td>\n",
       "      <td>0.143</td>\n",
       "      <td>0.083</td>\n",
       "      <td>0.083</td>\n",
       "      <td>0.167</td>\n",
       "      <td>0.250</td>\n",
       "      <td>0.103</td>\n",
       "      <td>-0.23</td>\n",
       "      <td>2800</td>\n",
       "      <td>2700</td>\n",
       "    </tr>\n",
       "    <tr>\n",
       "      <th>133</th>\n",
       "      <td>박성한</td>\n",
       "      <td>SK</td>\n",
       "      <td>2</td>\n",
       "      <td>4</td>\n",
       "      <td>4</td>\n",
       "      <td>0</td>\n",
       "      <td>0</td>\n",
       "      <td>0</td>\n",
       "      <td>0</td>\n",
       "      <td>0</td>\n",
       "      <td>...</td>\n",
       "      <td>0</td>\n",
       "      <td>0</td>\n",
       "      <td>0.000</td>\n",
       "      <td>0.000</td>\n",
       "      <td>0.000</td>\n",
       "      <td>0.000</td>\n",
       "      <td>0.000</td>\n",
       "      <td>-0.13</td>\n",
       "      <td>2700</td>\n",
       "      <td>2700</td>\n",
       "    </tr>\n",
       "    <tr>\n",
       "      <th>109</th>\n",
       "      <td>강구성</td>\n",
       "      <td>NC</td>\n",
       "      <td>1</td>\n",
       "      <td>1</td>\n",
       "      <td>1</td>\n",
       "      <td>0</td>\n",
       "      <td>0</td>\n",
       "      <td>0</td>\n",
       "      <td>0</td>\n",
       "      <td>0</td>\n",
       "      <td>...</td>\n",
       "      <td>0</td>\n",
       "      <td>-</td>\n",
       "      <td>0.000</td>\n",
       "      <td>0.000</td>\n",
       "      <td>0.000</td>\n",
       "      <td>0.000</td>\n",
       "      <td>0.000</td>\n",
       "      <td>-0.03</td>\n",
       "      <td>2700</td>\n",
       "      <td>2700</td>\n",
       "    </tr>\n",
       "  </tbody>\n",
       "</table>\n",
       "<p>191 rows × 21 columns</p>\n",
       "</div>"
      ],
      "text/plain": [
       "     선수명   팀명   경기   타석   타수   안타  홈런   득점   타점  볼넷  ...  도루  BABIP     타율  \\\n",
       "16   이대호   롯데  142  608  540  173  34   73  111  50  ...   1  0.327  0.320   \n",
       "22   김태균   한화   94  407  356  121  17   51   76  43  ...   0  0.362  0.340   \n",
       "1    최형우  KIA  142  629  514  176  26   98  120  96  ...   0  0.362  0.342   \n",
       "4    손아섭   롯데  144  667  576  193  20  113   80  83  ...  25  0.374  0.335   \n",
       "10    러프   삼성  134  591  515  162  31   90  124  60  ...   2  0.344  0.315   \n",
       "..   ...  ...  ...  ...  ...  ...  ..  ...  ...  ..  ...  ..    ...    ...   \n",
       "120  이우성   두산    2    2    2    0   0    0    0   0  ...   0      0  0.000   \n",
       "104  박유연   두산    3    3    3    1   0    0    0   0  ...   0      1  0.333   \n",
       "147  신진호   NC    9   12   12    1   0    1    0   0  ...   0  0.143  0.083   \n",
       "133  박성한   SK    2    4    4    0   0    0    0   0  ...   0      0  0.000   \n",
       "109  강구성   NC    1    1    1    0   0    0    0   0  ...   0      -  0.000   \n",
       "\n",
       "       출루율    장타율    OPS   wOBA   WAR  연봉(2018)  연봉(2017)  \n",
       "16   0.391  0.533  0.924  0.388  3.86    250000    250000  \n",
       "22   0.413  0.545  0.958  0.401  2.96    160000    160000  \n",
       "1    0.450  0.576  1.026  0.430  7.20    150000    150000  \n",
       "4    0.420  0.514  0.934  0.398  5.60    150000     65000  \n",
       "10   0.396  0.569  0.965  0.402  4.59    140000    110000  \n",
       "..     ...    ...    ...    ...   ...       ...       ...  \n",
       "120  0.000  0.000  0.000  0.000 -0.07      2800      2800  \n",
       "104  0.333  0.333  0.666  0.299  0.00      2800      2700  \n",
       "147  0.083  0.167  0.250  0.103 -0.23      2800      2700  \n",
       "133  0.000  0.000  0.000  0.000 -0.13      2700      2700  \n",
       "109  0.000  0.000  0.000  0.000 -0.03      2700      2700  \n",
       "\n",
       "[191 rows x 21 columns]"
      ]
     },
     "execution_count": 13,
     "metadata": {},
     "output_type": "execute_result"
    }
   ],
   "source": [
    "batter.sort_values(by='연봉(2018)', ascending=False)\n"
   ]
  },
  {
   "cell_type": "code",
   "execution_count": 14,
   "metadata": {},
   "outputs": [
    {
     "data": {
      "image/png": "[encoded data removed]",
      "text/plain": [
       "<Figure size 1440x720 with 1 Axes>"
      ]
     },
     "metadata": {
      "needs_background": "light"
     },
     "output_type": "display_data"
    }
   ],
   "source": [
    "batter['연봉(2018)'].hist(bins=100)\n",
    "plt.show()"
   ]
  },
  {
   "cell_type": "code",
   "execution_count": 15,
   "metadata": {},
   "outputs": [
    {
     "data": {
      "image/png": "[encoded data removed]",
      "text/plain": [
       "<Figure size 1440x720 with 1 Axes>"
      ]
     },
     "metadata": {
      "needs_background": "light"
     },
     "output_type": "display_data"
    }
   ],
   "source": [
    "pitcher.boxplot(column=['연봉(2018)'])\n",
    "plt.show()"
   ]
  },
  {
   "cell_type": "code",
   "execution_count": 16,
   "metadata": {},
   "outputs": [
    {
     "data": {
      "image/png": "[encoded data removed]",
      "text/plain": [
       "<Figure size 1440x720 with 1 Axes>"
      ]
     },
     "metadata": {
      "needs_background": "light"
     },
     "output_type": "display_data"
    }
   ],
   "source": [
    "batter.boxplot(column=['연봉(2018)'])\n",
    "plt.show()"
   ]
  },
  {
   "cell_type": "markdown",
   "metadata": {},
   "source": [
    "## 회귀 분석에서 사용할 피처 살펴보기"
   ]
  },
  {
   "cell_type": "code",
   "execution_count": 17,
   "metadata": {},
   "outputs": [
    {
     "data": {
      "text/plain": [
       "Index(['선수명', '팀명', '승', '패', '세', '홀드', '블론', '경기', '선발', '이닝', '삼진/9',\n",
       "       '볼넷/9', '홈런/9', 'BABIP', 'LOB%', 'ERA', 'RA9-WAR', 'FIP', 'kFIP', 'WAR',\n",
       "       '연봉(2018)', '연봉(2017)'],\n",
       "      dtype='object')"
      ]
     },
     "execution_count": 17,
     "metadata": {},
     "output_type": "execute_result"
    }
   ],
   "source": [
    "#컬럼 종류 파악\n",
    "pitcher.columns"
   ]
  },
  {
   "cell_type": "code",
   "execution_count": 18,
   "metadata": {},
   "outputs": [
    {
     "data": {
      "text/plain": [
       "Index(['승', '패', '세', '홀드', '블론', '경기', '선발', '이닝', '삼진/9', '볼넷/9', '홈런/9',\n",
       "       'BABIP', 'LOB%', 'ERA', 'RA9-WAR', 'FIP', 'kFIP', 'WAR', '연봉(2018)',\n",
       "       '연봉(2017)'],\n",
       "      dtype='object')"
      ]
     },
     "execution_count": 18,
     "metadata": {},
     "output_type": "execute_result"
    }
   ],
   "source": [
    "# 선수명과 팀명을 날려준다.\n",
    "pitcher2 = pitcher.drop(['선수명', '팀명'], axis=1)\n",
    "pitcher2.columns"
   ]
  },
  {
   "cell_type": "code",
   "execution_count": 19,
   "metadata": {},
   "outputs": [
    {
     "data": {
      "image/png": "[encoded data removed]",
      "text/plain": [
       "<Figure size 1440x720 with 20 Axes>"
      ]
     },
     "metadata": {
      "needs_background": "light"
     },
     "output_type": "display_data"
    }
   ],
   "source": [
    "fig = plt.figure(1)\n",
    "\n",
    "# 컬럼의 수 만큼 반복한다.\n",
    "for i in range(len(pitcher2.columns)) :\n",
    "    # 서브플롯 생성\n",
    "    ax = fig.add_subplot(5, 5, i + 1)\n",
    "    # 히스토그램을 그린다.\n",
    "    plt.hist(pitcher2[pitcher2.columns[i]], bins=50)\n",
    "    # 타이틀\n",
    "    ax.set_title(pitcher2.columns[i])\n",
    "\n",
    "plt.show()\n"
   ]
  },
  {
   "cell_type": "markdown",
   "metadata": {},
   "source": [
    "## 투수연봉 예측하기"
   ]
  },
  {
   "cell_type": "code",
   "execution_count": 20,
   "metadata": {},
   "outputs": [],
   "source": [
    "from sklearn.preprocessing import StandardScaler"
   ]
  },
  {
   "cell_type": "code",
   "execution_count": 21,
   "metadata": {},
   "outputs": [
    {
     "data": {
      "text/plain": [
       "Index(['승', '패', '세', '홀드', '블론', '경기', '선발', '이닝', '삼진/9', '볼넷/9', '홈런/9',\n",
       "       'BABIP', 'LOB%', 'ERA', 'RA9-WAR', 'FIP', 'kFIP', 'WAR', '연봉(2017)'],\n",
       "      dtype='object')"
      ]
     },
     "execution_count": 21,
     "metadata": {},
     "output_type": "execute_result"
    }
   ],
   "source": [
    "# 선수명과 팀명을 날려준다.\n",
    "pitcher_df = pitcher.drop(['선수명', '팀명','연봉(2018)'], axis=1)\n",
    "pitcher_df.columns"
   ]
  },
  {
   "cell_type": "code",
   "execution_count": 22,
   "metadata": {},
   "outputs": [
    {
     "data": {
      "text/plain": [
       "array([[ 3.32457765,  1.23120199, -0.30746498, ..., -1.06162315,\n",
       "         4.51802888,  2.74374569],\n",
       "       [ 2.02618144,  2.51300132, -0.09882803, ..., -1.07681252,\n",
       "         4.10827019,  1.34172411],\n",
       "       [ 4.36329461,  0.91075216, -0.30746498, ..., -0.86922457,\n",
       "         3.77439273,  5.34750005],\n",
       "       ...,\n",
       "       [-0.8302902 , -0.37104718, -0.30746498, ...,  1.39399038,\n",
       "        -0.9681847 , -0.02023971],\n",
       "       [-0.8302902 , -0.05059734, -0.30746498, ...,  0.71553221,\n",
       "        -1.03647782, -0.54499636],\n",
       "       [ 0.20842676,  0.26985249, -0.30746498, ...,  1.15096059,\n",
       "        -1.27170966, -0.54099058]])"
      ]
     },
     "execution_count": 22,
     "metadata": {},
     "output_type": "execute_result"
    }
   ],
   "source": [
    "# 표준화\n",
    "scaler1 = StandardScaler()\n",
    "scaler1.fit(pitcher_df)\n",
    "pitcher_df = scaler1.transform(pitcher_df)\n",
    "pitcher_df"
   ]
  },
  {
   "cell_type": "markdown",
   "metadata": {},
   "source": [
    "## 투수 연봉 예측하기"
   ]
  },
  {
   "cell_type": "code",
   "execution_count": 23,
   "metadata": {},
   "outputs": [
    {
     "data": {
      "text/plain": [
       "Index(['선수명', '팀명', '승', '패', '세', '홀드', '블론', '경기', '선발', '이닝', '삼진/9',\n",
       "       '볼넷/9', '홈런/9', 'BABIP', 'LOB%', 'ERA', 'RA9-WAR', 'FIP', 'kFIP', 'WAR',\n",
       "       '연봉(2018)', '연봉(2017)'],\n",
       "      dtype='object')"
      ]
     },
     "execution_count": 23,
     "metadata": {},
     "output_type": "execute_result"
    }
   ],
   "source": [
    "pitcher.columns"
   ]
  },
  {
   "cell_type": "code",
   "execution_count": 24,
   "metadata": {},
   "outputs": [
    {
     "data": {
      "text/plain": [
       "Index(['팀명', '승', '패', '세', '홀드', '블론', '경기', '선발', '이닝', '삼진/9', '볼넷/9',\n",
       "       '홈런/9', 'BABIP', 'LOB%', 'ERA', 'RA9-WAR', 'FIP', 'kFIP', 'WAR',\n",
       "       '연봉(2018)', '연봉(2017)'],\n",
       "      dtype='object')"
      ]
     },
     "execution_count": 24,
     "metadata": {},
     "output_type": "execute_result"
    }
   ],
   "source": [
    "# 불필요한 컬럼을 제거\n",
    "pitcher_df = pitcher.drop('선수명', axis=1)\n",
    "pitcher_df.columns"
   ]
  },
  {
   "cell_type": "code",
   "execution_count": 25,
   "metadata": {},
   "outputs": [
    {
     "data": {
      "text/html": [
       "<div>\n",
       "<style scoped>\n",
       "    .dataframe tbody tr th:only-of-type {\n",
       "        vertical-align: middle;\n",
       "    }\n",
       "\n",
       "    .dataframe tbody tr th {\n",
       "        vertical-align: top;\n",
       "    }\n",
       "\n",
       "    .dataframe thead th {\n",
       "        text-align: right;\n",
       "    }\n",
       "</style>\n",
       "<table border=\"1\" class=\"dataframe\">\n",
       "  <thead>\n",
       "    <tr style=\"text-align: right;\">\n",
       "      <th></th>\n",
       "      <th>팀명</th>\n",
       "      <th>승</th>\n",
       "      <th>패</th>\n",
       "      <th>세</th>\n",
       "      <th>홀드</th>\n",
       "      <th>블론</th>\n",
       "      <th>경기</th>\n",
       "      <th>선발</th>\n",
       "      <th>이닝</th>\n",
       "      <th>삼진/9</th>\n",
       "      <th>볼넷/9</th>\n",
       "      <th>홈런/9</th>\n",
       "      <th>BABIP</th>\n",
       "      <th>LOB%</th>\n",
       "      <th>ERA</th>\n",
       "      <th>RA9-WAR</th>\n",
       "      <th>FIP</th>\n",
       "      <th>kFIP</th>\n",
       "      <th>WAR</th>\n",
       "      <th>연봉(2017)</th>\n",
       "    </tr>\n",
       "  </thead>\n",
       "  <tbody>\n",
       "    <tr>\n",
       "      <th>0</th>\n",
       "      <td>SK</td>\n",
       "      <td>16</td>\n",
       "      <td>7</td>\n",
       "      <td>0</td>\n",
       "      <td>0</td>\n",
       "      <td>0</td>\n",
       "      <td>30</td>\n",
       "      <td>30</td>\n",
       "      <td>190.0</td>\n",
       "      <td>8.95</td>\n",
       "      <td>2.13</td>\n",
       "      <td>0.76</td>\n",
       "      <td>0.342</td>\n",
       "      <td>73.7</td>\n",
       "      <td>3.60</td>\n",
       "      <td>6.91</td>\n",
       "      <td>3.69</td>\n",
       "      <td>3.44</td>\n",
       "      <td>6.62</td>\n",
       "      <td>85000</td>\n",
       "    </tr>\n",
       "    <tr>\n",
       "      <th>1</th>\n",
       "      <td>LG</td>\n",
       "      <td>11</td>\n",
       "      <td>11</td>\n",
       "      <td>1</td>\n",
       "      <td>0</td>\n",
       "      <td>0</td>\n",
       "      <td>30</td>\n",
       "      <td>29</td>\n",
       "      <td>185.1</td>\n",
       "      <td>7.43</td>\n",
       "      <td>1.85</td>\n",
       "      <td>0.53</td>\n",
       "      <td>0.319</td>\n",
       "      <td>67.1</td>\n",
       "      <td>3.88</td>\n",
       "      <td>6.80</td>\n",
       "      <td>3.52</td>\n",
       "      <td>3.41</td>\n",
       "      <td>6.08</td>\n",
       "      <td>50000</td>\n",
       "    </tr>\n",
       "    <tr>\n",
       "      <th>2</th>\n",
       "      <td>KIA</td>\n",
       "      <td>20</td>\n",
       "      <td>6</td>\n",
       "      <td>0</td>\n",
       "      <td>0</td>\n",
       "      <td>0</td>\n",
       "      <td>31</td>\n",
       "      <td>31</td>\n",
       "      <td>193.1</td>\n",
       "      <td>7.36</td>\n",
       "      <td>2.09</td>\n",
       "      <td>0.79</td>\n",
       "      <td>0.332</td>\n",
       "      <td>72.1</td>\n",
       "      <td>3.44</td>\n",
       "      <td>6.54</td>\n",
       "      <td>3.94</td>\n",
       "      <td>3.82</td>\n",
       "      <td>5.64</td>\n",
       "      <td>150000</td>\n",
       "    </tr>\n",
       "    <tr>\n",
       "      <th>3</th>\n",
       "      <td>LG</td>\n",
       "      <td>10</td>\n",
       "      <td>7</td>\n",
       "      <td>0</td>\n",
       "      <td>0</td>\n",
       "      <td>0</td>\n",
       "      <td>28</td>\n",
       "      <td>28</td>\n",
       "      <td>175.2</td>\n",
       "      <td>8.04</td>\n",
       "      <td>1.95</td>\n",
       "      <td>1.02</td>\n",
       "      <td>0.298</td>\n",
       "      <td>75.0</td>\n",
       "      <td>3.43</td>\n",
       "      <td>6.11</td>\n",
       "      <td>4.20</td>\n",
       "      <td>4.03</td>\n",
       "      <td>4.63</td>\n",
       "      <td>100000</td>\n",
       "    </tr>\n",
       "    <tr>\n",
       "      <th>4</th>\n",
       "      <td>롯데</td>\n",
       "      <td>13</td>\n",
       "      <td>7</td>\n",
       "      <td>0</td>\n",
       "      <td>0</td>\n",
       "      <td>0</td>\n",
       "      <td>30</td>\n",
       "      <td>30</td>\n",
       "      <td>187.1</td>\n",
       "      <td>7.49</td>\n",
       "      <td>2.11</td>\n",
       "      <td>0.91</td>\n",
       "      <td>0.323</td>\n",
       "      <td>74.1</td>\n",
       "      <td>3.80</td>\n",
       "      <td>6.13</td>\n",
       "      <td>4.36</td>\n",
       "      <td>4.31</td>\n",
       "      <td>4.38</td>\n",
       "      <td>85000</td>\n",
       "    </tr>\n",
       "    <tr>\n",
       "      <th>...</th>\n",
       "      <td>...</td>\n",
       "      <td>...</td>\n",
       "      <td>...</td>\n",
       "      <td>...</td>\n",
       "      <td>...</td>\n",
       "      <td>...</td>\n",
       "      <td>...</td>\n",
       "      <td>...</td>\n",
       "      <td>...</td>\n",
       "      <td>...</td>\n",
       "      <td>...</td>\n",
       "      <td>...</td>\n",
       "      <td>...</td>\n",
       "      <td>...</td>\n",
       "      <td>...</td>\n",
       "      <td>...</td>\n",
       "      <td>...</td>\n",
       "      <td>...</td>\n",
       "      <td>...</td>\n",
       "      <td>...</td>\n",
       "    </tr>\n",
       "    <tr>\n",
       "      <th>147</th>\n",
       "      <td>한화</td>\n",
       "      <td>2</td>\n",
       "      <td>5</td>\n",
       "      <td>0</td>\n",
       "      <td>0</td>\n",
       "      <td>2</td>\n",
       "      <td>33</td>\n",
       "      <td>5</td>\n",
       "      <td>62.2</td>\n",
       "      <td>4.31</td>\n",
       "      <td>3.30</td>\n",
       "      <td>1.58</td>\n",
       "      <td>0.355</td>\n",
       "      <td>56.9</td>\n",
       "      <td>7.76</td>\n",
       "      <td>-1.21</td>\n",
       "      <td>6.21</td>\n",
       "      <td>6.48</td>\n",
       "      <td>-0.47</td>\n",
       "      <td>8100</td>\n",
       "    </tr>\n",
       "    <tr>\n",
       "      <th>148</th>\n",
       "      <td>KIA</td>\n",
       "      <td>3</td>\n",
       "      <td>2</td>\n",
       "      <td>0</td>\n",
       "      <td>0</td>\n",
       "      <td>0</td>\n",
       "      <td>25</td>\n",
       "      <td>11</td>\n",
       "      <td>59.1</td>\n",
       "      <td>4.85</td>\n",
       "      <td>5.61</td>\n",
       "      <td>1.06</td>\n",
       "      <td>0.263</td>\n",
       "      <td>65.4</td>\n",
       "      <td>5.92</td>\n",
       "      <td>0.39</td>\n",
       "      <td>6.41</td>\n",
       "      <td>6.77</td>\n",
       "      <td>-0.49</td>\n",
       "      <td>3100</td>\n",
       "    </tr>\n",
       "    <tr>\n",
       "      <th>149</th>\n",
       "      <td>롯데</td>\n",
       "      <td>0</td>\n",
       "      <td>2</td>\n",
       "      <td>0</td>\n",
       "      <td>0</td>\n",
       "      <td>0</td>\n",
       "      <td>9</td>\n",
       "      <td>2</td>\n",
       "      <td>14.2</td>\n",
       "      <td>4.91</td>\n",
       "      <td>4.91</td>\n",
       "      <td>2.45</td>\n",
       "      <td>0.382</td>\n",
       "      <td>52.8</td>\n",
       "      <td>11.66</td>\n",
       "      <td>-0.83</td>\n",
       "      <td>8.03</td>\n",
       "      <td>8.29</td>\n",
       "      <td>-0.61</td>\n",
       "      <td>16000</td>\n",
       "    </tr>\n",
       "    <tr>\n",
       "      <th>150</th>\n",
       "      <td>삼성</td>\n",
       "      <td>0</td>\n",
       "      <td>3</td>\n",
       "      <td>0</td>\n",
       "      <td>1</td>\n",
       "      <td>0</td>\n",
       "      <td>41</td>\n",
       "      <td>0</td>\n",
       "      <td>43.2</td>\n",
       "      <td>7.63</td>\n",
       "      <td>7.01</td>\n",
       "      <td>1.44</td>\n",
       "      <td>0.341</td>\n",
       "      <td>73.9</td>\n",
       "      <td>5.77</td>\n",
       "      <td>-0.40</td>\n",
       "      <td>6.87</td>\n",
       "      <td>6.95</td>\n",
       "      <td>-0.70</td>\n",
       "      <td>2900</td>\n",
       "    </tr>\n",
       "    <tr>\n",
       "      <th>151</th>\n",
       "      <td>KT</td>\n",
       "      <td>4</td>\n",
       "      <td>4</td>\n",
       "      <td>0</td>\n",
       "      <td>0</td>\n",
       "      <td>0</td>\n",
       "      <td>24</td>\n",
       "      <td>14</td>\n",
       "      <td>81.0</td>\n",
       "      <td>5.78</td>\n",
       "      <td>5.89</td>\n",
       "      <td>2.00</td>\n",
       "      <td>0.312</td>\n",
       "      <td>65.3</td>\n",
       "      <td>7.67</td>\n",
       "      <td>-0.68</td>\n",
       "      <td>7.60</td>\n",
       "      <td>7.81</td>\n",
       "      <td>-1.01</td>\n",
       "      <td>3000</td>\n",
       "    </tr>\n",
       "  </tbody>\n",
       "</table>\n",
       "<p>152 rows × 20 columns</p>\n",
       "</div>"
      ],
      "text/plain": [
       "      팀명   승   패  세  홀드  블론  경기  선발     이닝  삼진/9  볼넷/9  홈런/9  BABIP  LOB%  \\\n",
       "0     SK  16   7  0   0   0  30  30  190.0  8.95  2.13  0.76  0.342  73.7   \n",
       "1     LG  11  11  1   0   0  30  29  185.1  7.43  1.85  0.53  0.319  67.1   \n",
       "2    KIA  20   6  0   0   0  31  31  193.1  7.36  2.09  0.79  0.332  72.1   \n",
       "3     LG  10   7  0   0   0  28  28  175.2  8.04  1.95  1.02  0.298  75.0   \n",
       "4     롯데  13   7  0   0   0  30  30  187.1  7.49  2.11  0.91  0.323  74.1   \n",
       "..   ...  ..  .. ..  ..  ..  ..  ..    ...   ...   ...   ...    ...   ...   \n",
       "147   한화   2   5  0   0   2  33   5   62.2  4.31  3.30  1.58  0.355  56.9   \n",
       "148  KIA   3   2  0   0   0  25  11   59.1  4.85  5.61  1.06  0.263  65.4   \n",
       "149   롯데   0   2  0   0   0   9   2   14.2  4.91  4.91  2.45  0.382  52.8   \n",
       "150   삼성   0   3  0   1   0  41   0   43.2  7.63  7.01  1.44  0.341  73.9   \n",
       "151   KT   4   4  0   0   0  24  14   81.0  5.78  5.89  2.00  0.312  65.3   \n",
       "\n",
       "       ERA  RA9-WAR   FIP  kFIP   WAR  연봉(2017)  \n",
       "0     3.60     6.91  3.69  3.44  6.62     85000  \n",
       "1     3.88     6.80  3.52  3.41  6.08     50000  \n",
       "2     3.44     6.54  3.94  3.82  5.64    150000  \n",
       "3     3.43     6.11  4.20  4.03  4.63    100000  \n",
       "4     3.80     6.13  4.36  4.31  4.38     85000  \n",
       "..     ...      ...   ...   ...   ...       ...  \n",
       "147   7.76    -1.21  6.21  6.48 -0.47      8100  \n",
       "148   5.92     0.39  6.41  6.77 -0.49      3100  \n",
       "149  11.66    -0.83  8.03  8.29 -0.61     16000  \n",
       "150   5.77    -0.40  6.87  6.95 -0.70      2900  \n",
       "151   7.67    -0.68  7.60  7.81 -1.01      3000  \n",
       "\n",
       "[152 rows x 20 columns]"
      ]
     },
     "metadata": {},
     "output_type": "display_data"
    },
    {
     "data": {
      "text/plain": [
       "0      140000\n",
       "1      120000\n",
       "2      230000\n",
       "3      100000\n",
       "4      111000\n",
       "        ...  \n",
       "147      7100\n",
       "148      7500\n",
       "149     10000\n",
       "150      4000\n",
       "151      4000\n",
       "Name: 연봉(2018), Length: 152, dtype: int64"
      ]
     },
     "metadata": {},
     "output_type": "display_data"
    }
   ],
   "source": [
    "# 입력과 결과로 나눈다.\n",
    "X = pitcher_df.drop('연봉(2018)', axis=1)\n",
    "y = pitcher_df['연봉(2018)']\n",
    "\n",
    "display(X)\n",
    "display(y)\n"
   ]
  },
  {
   "cell_type": "code",
   "execution_count": 26,
   "metadata": {},
   "outputs": [
    {
     "data": {
      "text/plain": [
       "8    20\n",
       "7    20\n",
       "1    19\n",
       "4    18\n",
       "2    18\n",
       "5    15\n",
       "0    15\n",
       "6    14\n",
       "3    13\n",
       "Name: 팀명, dtype: int64"
      ]
     },
     "execution_count": 26,
     "metadata": {},
     "output_type": "execute_result"
    }
   ],
   "source": [
    "# 팀명을 숫자로 변환한다.\n",
    "from sklearn.preprocessing import LabelEncoder\n",
    "\n",
    "encoder1 = LabelEncoder()\n",
    "encoder1.fit(X['팀명'])\n",
    "X['팀명'] = encoder1.transform(X['팀명'])\n",
    "X['팀명'].value_counts()\n"
   ]
  },
  {
   "cell_type": "code",
   "execution_count": 27,
   "metadata": {},
   "outputs": [
    {
     "name": "stdout",
     "output_type": "stream",
     "text": [
      "<class 'pandas.core.frame.DataFrame'>\n",
      "RangeIndex: 152 entries, 0 to 151\n",
      "Data columns (total 20 columns):\n",
      " #   Column    Non-Null Count  Dtype  \n",
      "---  ------    --------------  -----  \n",
      " 0   팀명        152 non-null    int32  \n",
      " 1   승         152 non-null    int64  \n",
      " 2   패         152 non-null    int64  \n",
      " 3   세         152 non-null    int64  \n",
      " 4   홀드        152 non-null    int64  \n",
      " 5   블론        152 non-null    int64  \n",
      " 6   경기        152 non-null    int64  \n",
      " 7   선발        152 non-null    int64  \n",
      " 8   이닝        152 non-null    float64\n",
      " 9   삼진/9      152 non-null    float64\n",
      " 10  볼넷/9      152 non-null    float64\n",
      " 11  홈런/9      152 non-null    float64\n",
      " 12  BABIP     152 non-null    float64\n",
      " 13  LOB%      152 non-null    float64\n",
      " 14  ERA       152 non-null    float64\n",
      " 15  RA9-WAR   152 non-null    float64\n",
      " 16  FIP       152 non-null    float64\n",
      " 17  kFIP      152 non-null    float64\n",
      " 18  WAR       152 non-null    float64\n",
      " 19  연봉(2017)  152 non-null    int64  \n",
      "dtypes: float64(11), int32(1), int64(8)\n",
      "memory usage: 23.3 KB\n"
     ]
    }
   ],
   "source": [
    "X.info()"
   ]
  },
  {
   "cell_type": "code",
   "execution_count": 28,
   "metadata": {},
   "outputs": [
    {
     "data": {
      "text/plain": [
       "array([[-0.04225053,  3.32457765,  1.23120199, ..., -1.06162315,\n",
       "         4.51802888,  2.74374569],\n",
       "       [-0.7977895 ,  2.02618144,  2.51300132, ..., -1.07681252,\n",
       "         4.10827019,  1.34172411],\n",
       "       [-1.55332846,  4.36329461,  0.91075216, ..., -0.86922457,\n",
       "         3.77439273,  5.34750005],\n",
       "       ...,\n",
       "       [ 0.71328843, -0.8302902 , -0.37104718, ...,  1.39399038,\n",
       "        -0.9681847 , -0.02023971],\n",
       "       [ 1.09105791, -0.8302902 , -0.05059734, ...,  0.71553221,\n",
       "        -1.03647782, -0.54499636],\n",
       "       [-1.17555898,  0.20842676,  0.26985249, ...,  1.15096059,\n",
       "        -1.27170966, -0.54099058]])"
      ]
     },
     "execution_count": 28,
     "metadata": {},
     "output_type": "execute_result"
    }
   ],
   "source": [
    "# 표준화작업\n",
    "from sklearn.preprocessing import StandardScaler\n",
    "\n",
    "scaler1 = StandardScaler()\n",
    "scaler1.fit(X)\n",
    "X = scaler1.transform(X)\n",
    "X"
   ]
  },
  {
   "cell_type": "code",
   "execution_count": 29,
   "metadata": {},
   "outputs": [],
   "source": [
    "from sklearn.model_selection import train_test_split\n",
    "\n",
    "# 학습용과 검증용으로 나눈다.\n",
    "X_train, X_test, y_train, y_test = train_test_split(X,y, test_size=0.2, random_state=1)\n",
    "\n",
    "X= X_train\n",
    "y= y_train"
   ]
  },
  {
   "cell_type": "code",
   "execution_count": 30,
   "metadata": {},
   "outputs": [
    {
     "name": "stdout",
     "output_type": "stream",
     "text": [
      "최적의 하이퍼 파라미터 : {'max_depth': 3, 'n_estimators': 50}\n",
      "최적의 모델 평균 성능 : 0.7957617447460956\n"
     ]
    }
   ],
   "source": [
    "# 교차 검증\n",
    "from sklearn.model_selection import KFold, cross_val_score, GridSearchCV\n",
    "from xgboost import XGBRegressor\n",
    "from sklearn.linear_model import LinearRegression\n",
    "\n",
    "\n",
    "# 폴드 생성\n",
    "kfold = KFold(n_splits=20, shuffle=True, random_state=1)\n",
    "\n",
    "# 하이퍼 파라미터 튜닝\n",
    "params = {\n",
    "    # 트리의 개수\n",
    "    'n_estimators' : [10, 50, 100, 150, 200],\n",
    "    # 질문 깊이\n",
    "    'max_depth' : [None, 1, 2, 3, 4, 5, 6, 7, 8, 9, 10]\n",
    "}\n",
    "\n",
    "\n",
    "# 모델 생성\n",
    "model = XGBRegressor(silent=True, verbosity=0, tree_method='gpu_hist')\n",
    "\n",
    "\n",
    "# 하이퍼 파라미터 튜닝\n",
    "grid =GridSearchCV(model, param_grid=params, scoring='r2', cv=kfold)\n",
    "grid.fit(X,y)\n",
    "\n",
    "print(f'최적의 하이퍼 파라미터 : {grid.best_params_}')\n",
    "print(f'최적의 모델 평균 성능 : {grid.best_score_}')"
   ]
  },
  {
   "cell_type": "code",
   "execution_count": 31,
   "metadata": {},
   "outputs": [
    {
     "data": {
      "text/plain": [
       "XGBRegressor(base_score=0.5, booster='gbtree', colsample_bylevel=1,\n",
       "             colsample_bynode=1, colsample_bytree=1, gamma=0, gpu_id=0,\n",
       "             importance_type='gain', interaction_constraints='',\n",
       "             learning_rate=0.300000012, max_delta_step=0, max_depth=3,\n",
       "             min_child_weight=1, missing=nan, monotone_constraints='()',\n",
       "             n_estimators=50, n_jobs=12, num_parallel_tree=1,\n",
       "             objective='reg:squarederror', random_state=0, reg_alpha=0,\n",
       "             reg_lambda=1, scale_pos_weight=1, silent=True, subsample=1,\n",
       "             tree_method='gpu_hist', validate_parameters=1, verbosity=0)"
      ]
     },
     "execution_count": 31,
     "metadata": {},
     "output_type": "execute_result"
    }
   ],
   "source": [
    "# 최적의 하이퍼파라미터가 셋팅된 모델을 추출한다.\n",
    "best_model = grid.best_estimator_\n",
    "best_model"
   ]
  },
  {
   "cell_type": "code",
   "execution_count": 32,
   "metadata": {},
   "outputs": [
    {
     "data": {
      "text/plain": [
       "array([0.73465096, 0.29083687, 0.79714555, 0.69725321, 0.94459628,\n",
       "       0.34077251, 0.94590439, 0.89894845, 0.53525067, 0.80271444,\n",
       "       0.71843803, 0.99058046, 0.99438485, 0.89935382, 0.98925247,\n",
       "       0.94714384, 0.96173023, 0.94783728, 0.60635284, 0.87208775])"
      ]
     },
     "execution_count": 32,
     "metadata": {},
     "output_type": "execute_result"
    }
   ],
   "source": [
    "# 교차 검증\n",
    "result = cross_val_score(best_model, X,y, scoring='r2', cv=kfold)\n",
    "result"
   ]
  },
  {
   "cell_type": "code",
   "execution_count": 33,
   "metadata": {},
   "outputs": [
    {
     "data": {
      "text/plain": [
       "XGBRegressor(base_score=0.5, booster='gbtree', colsample_bylevel=1,\n",
       "             colsample_bynode=1, colsample_bytree=1, gamma=0, gpu_id=0,\n",
       "             importance_type='gain', interaction_constraints='',\n",
       "             learning_rate=0.300000012, max_delta_step=0, max_depth=3,\n",
       "             min_child_weight=1, missing=nan, monotone_constraints='()',\n",
       "             n_estimators=50, n_jobs=12, num_parallel_tree=1,\n",
       "             objective='reg:squarederror', random_state=0, reg_alpha=0,\n",
       "             reg_lambda=1, scale_pos_weight=1, silent=True, subsample=1,\n",
       "             tree_method='gpu_hist', validate_parameters=1, verbosity=0)"
      ]
     },
     "execution_count": 33,
     "metadata": {},
     "output_type": "execute_result"
    }
   ],
   "source": [
    "# 데이터를 학습 시킨다.\n",
    "best_model.fit(X, y)"
   ]
  },
  {
   "cell_type": "code",
   "execution_count": 34,
   "metadata": {},
   "outputs": [
    {
     "data": {
      "text/plain": [
       "array([11502.347 , 22860.004 ,  3490.6382,  8750.755 ,  9241.13  ,\n",
       "        2597.2485,  2527.8254, 16904.111 ,  4839.591 , 52743.992 ,\n",
       "        8743.616 ,  6604.3486,  3356.3438,  4033.4963, 30539.598 ,\n",
       "        5792.839 , 20989.81  ,  3536.1426,  2763.7427,  2602.716 ,\n",
       "        3999.7563,  6702.2476,  3168.467 ,  3828.9055,  1953.6078,\n",
       "       17553.668 , 13423.04  , 14887.544 ,  6977.5605,  4607.5986,\n",
       "       10634.932 ], dtype=float32)"
      ]
     },
     "execution_count": 34,
     "metadata": {},
     "output_type": "execute_result"
    }
   ],
   "source": [
    "# 결과를 예측한다.\n",
    "y_pred = best_model.predict(X_test)\n",
    "y_pred"
   ]
  },
  {
   "cell_type": "code",
   "execution_count": 37,
   "metadata": {},
   "outputs": [
    {
     "data": {
      "image/png": "[encoded data removed]",
      "text/plain": [
       "<Figure size 1440x720 with 1 Axes>"
      ]
     },
     "metadata": {
      "needs_background": "light"
     },
     "output_type": "display_data"
    }
   ],
   "source": [
    "# 진짜 결과와 예측 결과를 그래프로 확인한다.\n",
    "plt.plot(y_test.values, label='original')\n",
    "plt.plot(y_pred, label='prediction')\n",
    "plt.legend()\n",
    "plt.show()"
   ]
  },
  {
   "cell_type": "code",
   "execution_count": null,
   "metadata": {},
   "outputs": [],
   "source": []
  }
 ],
 "metadata": {
  "kernelspec": {
   "display_name": "Python 3",
   "language": "python",
   "name": "python3"
  },
  "language_info": {
   "codemirror_mode": {
    "name": "ipython",
    "version": 3
   },
   "file_extension": ".py",
   "mimetype": "text/x-python",
   "name": "python",
   "nbconvert_exporter": "python",
   "pygments_lexer": "ipython3",
   "version": "3.7.6"
  }
 },
 "nbformat": 4,
 "nbformat_minor": 4
}
