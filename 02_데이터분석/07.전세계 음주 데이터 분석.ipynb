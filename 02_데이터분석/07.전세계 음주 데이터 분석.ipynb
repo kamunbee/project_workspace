{
 "cells": [
  {
   "cell_type": "code",
   "execution_count": 1,
   "metadata": {},
   "outputs": [],
   "source": [
    "import pandas as pd\n",
    "import matplotlib.pyplot as plt\n",
    "import datetime\n",
    "import seaborn as sns\n",
    "import numpy as np\n",
    "# 그래프 설정\n",
    "plt.rcParams['font.family'] = 'Malgun Gothic'\n",
    "# plt.rcParams['font.family'] = 'AppleGothic'\n",
    "plt.rcParams['font.size'] = 16\n",
    "plt.rcParams['figure.figsize'] = 20, 10\n",
    "plt.rcParams['axes.unicode_minus'] = False\n"
   ]
  },
  {
   "cell_type": "markdown",
   "metadata": {},
   "source": [
    "## 데이터를 읽어온다."
   ]
  },
  {
   "cell_type": "code",
   "execution_count": 2,
   "metadata": {},
   "outputs": [
    {
     "data": {
      "text/html": [
       "<div>\n",
       "<style scoped>\n",
       "    .dataframe tbody tr th:only-of-type {\n",
       "        vertical-align: middle;\n",
       "    }\n",
       "\n",
       "    .dataframe tbody tr th {\n",
       "        vertical-align: top;\n",
       "    }\n",
       "\n",
       "    .dataframe thead th {\n",
       "        text-align: right;\n",
       "    }\n",
       "</style>\n",
       "<table border=\"1\" class=\"dataframe\">\n",
       "  <thead>\n",
       "    <tr style=\"text-align: right;\">\n",
       "      <th></th>\n",
       "      <th>country</th>\n",
       "      <th>beer_servings</th>\n",
       "      <th>spirit_servings</th>\n",
       "      <th>wine_servings</th>\n",
       "      <th>total_litres_of_pure_alcohol</th>\n",
       "      <th>continent</th>\n",
       "    </tr>\n",
       "  </thead>\n",
       "  <tbody>\n",
       "    <tr>\n",
       "      <th>0</th>\n",
       "      <td>Afghanistan</td>\n",
       "      <td>0</td>\n",
       "      <td>0</td>\n",
       "      <td>0</td>\n",
       "      <td>0.0</td>\n",
       "      <td>AS</td>\n",
       "    </tr>\n",
       "    <tr>\n",
       "      <th>1</th>\n",
       "      <td>Albania</td>\n",
       "      <td>89</td>\n",
       "      <td>132</td>\n",
       "      <td>54</td>\n",
       "      <td>4.9</td>\n",
       "      <td>EU</td>\n",
       "    </tr>\n",
       "    <tr>\n",
       "      <th>2</th>\n",
       "      <td>Algeria</td>\n",
       "      <td>25</td>\n",
       "      <td>0</td>\n",
       "      <td>14</td>\n",
       "      <td>0.7</td>\n",
       "      <td>AF</td>\n",
       "    </tr>\n",
       "    <tr>\n",
       "      <th>3</th>\n",
       "      <td>Andorra</td>\n",
       "      <td>245</td>\n",
       "      <td>138</td>\n",
       "      <td>312</td>\n",
       "      <td>12.4</td>\n",
       "      <td>EU</td>\n",
       "    </tr>\n",
       "    <tr>\n",
       "      <th>4</th>\n",
       "      <td>Angola</td>\n",
       "      <td>217</td>\n",
       "      <td>57</td>\n",
       "      <td>45</td>\n",
       "      <td>5.9</td>\n",
       "      <td>AF</td>\n",
       "    </tr>\n",
       "    <tr>\n",
       "      <th>...</th>\n",
       "      <td>...</td>\n",
       "      <td>...</td>\n",
       "      <td>...</td>\n",
       "      <td>...</td>\n",
       "      <td>...</td>\n",
       "      <td>...</td>\n",
       "    </tr>\n",
       "    <tr>\n",
       "      <th>188</th>\n",
       "      <td>Venezuela</td>\n",
       "      <td>333</td>\n",
       "      <td>100</td>\n",
       "      <td>3</td>\n",
       "      <td>7.7</td>\n",
       "      <td>SA</td>\n",
       "    </tr>\n",
       "    <tr>\n",
       "      <th>189</th>\n",
       "      <td>Vietnam</td>\n",
       "      <td>111</td>\n",
       "      <td>2</td>\n",
       "      <td>1</td>\n",
       "      <td>2.0</td>\n",
       "      <td>AS</td>\n",
       "    </tr>\n",
       "    <tr>\n",
       "      <th>190</th>\n",
       "      <td>Yemen</td>\n",
       "      <td>6</td>\n",
       "      <td>0</td>\n",
       "      <td>0</td>\n",
       "      <td>0.1</td>\n",
       "      <td>AS</td>\n",
       "    </tr>\n",
       "    <tr>\n",
       "      <th>191</th>\n",
       "      <td>Zambia</td>\n",
       "      <td>32</td>\n",
       "      <td>19</td>\n",
       "      <td>4</td>\n",
       "      <td>2.5</td>\n",
       "      <td>AF</td>\n",
       "    </tr>\n",
       "    <tr>\n",
       "      <th>192</th>\n",
       "      <td>Zimbabwe</td>\n",
       "      <td>64</td>\n",
       "      <td>18</td>\n",
       "      <td>4</td>\n",
       "      <td>4.7</td>\n",
       "      <td>AF</td>\n",
       "    </tr>\n",
       "  </tbody>\n",
       "</table>\n",
       "<p>193 rows × 6 columns</p>\n",
       "</div>"
      ],
      "text/plain": [
       "         country  beer_servings  spirit_servings  wine_servings  \\\n",
       "0    Afghanistan              0                0              0   \n",
       "1        Albania             89              132             54   \n",
       "2        Algeria             25                0             14   \n",
       "3        Andorra            245              138            312   \n",
       "4         Angola            217               57             45   \n",
       "..           ...            ...              ...            ...   \n",
       "188    Venezuela            333              100              3   \n",
       "189      Vietnam            111                2              1   \n",
       "190        Yemen              6                0              0   \n",
       "191       Zambia             32               19              4   \n",
       "192     Zimbabwe             64               18              4   \n",
       "\n",
       "     total_litres_of_pure_alcohol continent  \n",
       "0                             0.0        AS  \n",
       "1                             4.9        EU  \n",
       "2                             0.7        AF  \n",
       "3                            12.4        EU  \n",
       "4                             5.9        AF  \n",
       "..                            ...       ...  \n",
       "188                           7.7        SA  \n",
       "189                           2.0        AS  \n",
       "190                           0.1        AS  \n",
       "191                           2.5        AF  \n",
       "192                           4.7        AF  \n",
       "\n",
       "[193 rows x 6 columns]"
      ]
     },
     "execution_count": 2,
     "metadata": {},
     "output_type": "execute_result"
    }
   ],
   "source": [
    "drink = pd.read_csv('data10/drinks.csv')\n",
    "drink"
   ]
  },
  {
   "cell_type": "code",
   "execution_count": 3,
   "metadata": {},
   "outputs": [
    {
     "name": "stdout",
     "output_type": "stream",
     "text": [
      "<class 'pandas.core.frame.DataFrame'>\n",
      "RangeIndex: 193 entries, 0 to 192\n",
      "Data columns (total 6 columns):\n",
      " #   Column                        Non-Null Count  Dtype  \n",
      "---  ------                        --------------  -----  \n",
      " 0   country                       193 non-null    object \n",
      " 1   beer_servings                 193 non-null    int64  \n",
      " 2   spirit_servings               193 non-null    int64  \n",
      " 3   wine_servings                 193 non-null    int64  \n",
      " 4   total_litres_of_pure_alcohol  193 non-null    float64\n",
      " 5   continent                     170 non-null    object \n",
      "dtypes: float64(1), int64(3), object(2)\n",
      "memory usage: 9.2+ KB\n"
     ]
    }
   ],
   "source": [
    "drink.info()"
   ]
  },
  {
   "cell_type": "code",
   "execution_count": 4,
   "metadata": {},
   "outputs": [
    {
     "data": {
      "text/html": [
       "<div>\n",
       "<style scoped>\n",
       "    .dataframe tbody tr th:only-of-type {\n",
       "        vertical-align: middle;\n",
       "    }\n",
       "\n",
       "    .dataframe tbody tr th {\n",
       "        vertical-align: top;\n",
       "    }\n",
       "\n",
       "    .dataframe thead th {\n",
       "        text-align: right;\n",
       "    }\n",
       "</style>\n",
       "<table border=\"1\" class=\"dataframe\">\n",
       "  <thead>\n",
       "    <tr style=\"text-align: right;\">\n",
       "      <th></th>\n",
       "      <th>beer_servings</th>\n",
       "      <th>wine_servings</th>\n",
       "    </tr>\n",
       "  </thead>\n",
       "  <tbody>\n",
       "    <tr>\n",
       "      <th>beer_servings</th>\n",
       "      <td>1.000000</td>\n",
       "      <td>0.527172</td>\n",
       "    </tr>\n",
       "    <tr>\n",
       "      <th>wine_servings</th>\n",
       "      <td>0.527172</td>\n",
       "      <td>1.000000</td>\n",
       "    </tr>\n",
       "  </tbody>\n",
       "</table>\n",
       "</div>"
      ],
      "text/plain": [
       "               beer_servings  wine_servings\n",
       "beer_servings       1.000000       0.527172\n",
       "wine_servings       0.527172       1.000000"
      ]
     },
     "execution_count": 4,
     "metadata": {},
     "output_type": "execute_result"
    }
   ],
   "source": [
    "# beer_servings 와 wine_servings 두 특성간의 상관계수를 계산한다.\n",
    "# pearson 은 상관계수를 계산하는 함수\n",
    "corr = drink[['beer_servings', 'wine_servings']].corr(method= 'pearson')\n",
    "corr"
   ]
  },
  {
   "cell_type": "code",
   "execution_count": 5,
   "metadata": {},
   "outputs": [
    {
     "data": {
      "text/html": [
       "<div>\n",
       "<style scoped>\n",
       "    .dataframe tbody tr th:only-of-type {\n",
       "        vertical-align: middle;\n",
       "    }\n",
       "\n",
       "    .dataframe tbody tr th {\n",
       "        vertical-align: top;\n",
       "    }\n",
       "\n",
       "    .dataframe thead th {\n",
       "        text-align: right;\n",
       "    }\n",
       "</style>\n",
       "<table border=\"1\" class=\"dataframe\">\n",
       "  <thead>\n",
       "    <tr style=\"text-align: right;\">\n",
       "      <th></th>\n",
       "      <th>beer_servings</th>\n",
       "      <th>spirit_servings</th>\n",
       "      <th>wine_servings</th>\n",
       "      <th>total_litres_of_pure_alcohol</th>\n",
       "    </tr>\n",
       "  </thead>\n",
       "  <tbody>\n",
       "    <tr>\n",
       "      <th>beer_servings</th>\n",
       "      <td>1.000000</td>\n",
       "      <td>0.458819</td>\n",
       "      <td>0.527172</td>\n",
       "      <td>0.835839</td>\n",
       "    </tr>\n",
       "    <tr>\n",
       "      <th>spirit_servings</th>\n",
       "      <td>0.458819</td>\n",
       "      <td>1.000000</td>\n",
       "      <td>0.194797</td>\n",
       "      <td>0.654968</td>\n",
       "    </tr>\n",
       "    <tr>\n",
       "      <th>wine_servings</th>\n",
       "      <td>0.527172</td>\n",
       "      <td>0.194797</td>\n",
       "      <td>1.000000</td>\n",
       "      <td>0.667598</td>\n",
       "    </tr>\n",
       "    <tr>\n",
       "      <th>total_litres_of_pure_alcohol</th>\n",
       "      <td>0.835839</td>\n",
       "      <td>0.654968</td>\n",
       "      <td>0.667598</td>\n",
       "      <td>1.000000</td>\n",
       "    </tr>\n",
       "  </tbody>\n",
       "</table>\n",
       "</div>"
      ],
      "text/plain": [
       "                              beer_servings  spirit_servings  wine_servings  \\\n",
       "beer_servings                      1.000000         0.458819       0.527172   \n",
       "spirit_servings                    0.458819         1.000000       0.194797   \n",
       "wine_servings                      0.527172         0.194797       1.000000   \n",
       "total_litres_of_pure_alcohol       0.835839         0.654968       0.667598   \n",
       "\n",
       "                              total_litres_of_pure_alcohol  \n",
       "beer_servings                                     0.835839  \n",
       "spirit_servings                                   0.654968  \n",
       "wine_servings                                     0.667598  \n",
       "total_litres_of_pure_alcohol                      1.000000  "
      ]
     },
     "execution_count": 5,
     "metadata": {},
     "output_type": "execute_result"
    }
   ],
   "source": [
    "# 여러 피처의 상관관계 분석\n",
    "cols = ['beer_servings', 'spirit_servings', 'wine_servings',\n",
    "       'total_litres_of_pure_alcohol']\n",
    "\n",
    "corr = drink[cols].corr(method='pearson')\n",
    "corr\n"
   ]
  },
  {
   "cell_type": "code",
   "execution_count": 6,
   "metadata": {},
   "outputs": [
    {
     "data": {
      "image/png": "[encoded data removed]",
      "text/plain": [
       "<Figure size 1440x720 with 2 Axes>"
      ]
     },
     "metadata": {
      "needs_background": "light"
     },
     "output_type": "display_data"
    }
   ],
   "source": [
    "# Heat map\n",
    "cols_view = ['beer' ,'spirit', 'wine', 'alcohol']\n",
    "\n",
    "hm = sns.heatmap(corr.values, cbar=True, annot=True, square=True,\n",
    "                fmt='.2f', yticklabels=cols_view,\n",
    "                xticklabels=cols_view,)\n",
    "plt.show()\n"
   ]
  },
  {
   "cell_type": "markdown",
   "metadata": {},
   "source": [
    "### 결측치 처리"
   ]
  },
  {
   "cell_type": "code",
   "execution_count": 7,
   "metadata": {},
   "outputs": [
    {
     "data": {
      "text/plain": [
       "country                          0\n",
       "beer_servings                    0\n",
       "spirit_servings                  0\n",
       "wine_servings                    0\n",
       "total_litres_of_pure_alcohol     0\n",
       "continent                       23\n",
       "dtype: int64"
      ]
     },
     "execution_count": 7,
     "metadata": {},
     "output_type": "execute_result"
    }
   ],
   "source": [
    "drink.isna().sum()"
   ]
  },
  {
   "cell_type": "code",
   "execution_count": 8,
   "metadata": {},
   "outputs": [],
   "source": [
    "# NA(북미)라는 글자를 결측치로 취급해버렸음\n",
    "drink['continent'] = drink['continent'].fillna('NA')"
   ]
  },
  {
   "cell_type": "code",
   "execution_count": 9,
   "metadata": {},
   "outputs": [
    {
     "data": {
      "text/plain": [
       "0"
      ]
     },
     "execution_count": 9,
     "metadata": {},
     "output_type": "execute_result"
    }
   ],
   "source": [
    "drink['continent'].isna().sum()"
   ]
  },
  {
   "cell_type": "code",
   "execution_count": 10,
   "metadata": {},
   "outputs": [
    {
     "data": {
      "text/plain": [
       "AF    53\n",
       "EU    45\n",
       "AS    44\n",
       "NA    23\n",
       "OC    16\n",
       "SA    12\n",
       "Name: continent, dtype: int64"
      ]
     },
     "execution_count": 10,
     "metadata": {},
     "output_type": "execute_result"
    }
   ],
   "source": [
    "drink['continent'].value_counts()\n"
   ]
  },
  {
   "cell_type": "markdown",
   "metadata": {},
   "source": [
    "## 대륙별 비율을 확인한다."
   ]
  },
  {
   "cell_type": "code",
   "execution_count": 11,
   "metadata": {},
   "outputs": [
    {
     "data": {
      "text/plain": [
       "['AF', 'EU', 'AS', 'NA', 'OC', 'SA']"
      ]
     },
     "execution_count": 11,
     "metadata": {},
     "output_type": "execute_result"
    }
   ],
   "source": [
    "# 대륙이름들\n",
    "labels = drink['continent'].value_counts().index.tolist()\n",
    "labels"
   ]
  },
  {
   "cell_type": "code",
   "execution_count": 12,
   "metadata": {},
   "outputs": [
    {
     "data": {
      "text/plain": [
       "[53, 45, 44, 23, 16, 12]"
      ]
     },
     "execution_count": 12,
     "metadata": {},
     "output_type": "execute_result"
    }
   ],
   "source": [
    "# 대륙별 국가 수\n",
    "fraces = drink['continent'].value_counts().values.tolist()\n",
    "fraces\n"
   ]
  },
  {
   "cell_type": "code",
   "execution_count": 13,
   "metadata": {},
   "outputs": [
    {
     "data": {
      "image/png": "[encoded data removed]",
      "text/plain": [
       "<Figure size 1440x720 with 1 Axes>"
      ]
     },
     "metadata": {},
     "output_type": "display_data"
    }
   ],
   "source": [
    "# pie 차트\n",
    "explode = 0, 0, 0, 0.25, 0, 0\n",
    "plt.pie(fraces, labels=labels, autopct='%.2f%%', shadow=True, explode=explode)\n",
    "plt.title('북미')\n",
    "plt.show()\n"
   ]
  },
  {
   "cell_type": "markdown",
   "metadata": {},
   "source": [
    "## 대륙별 spirit_servings의 평균,최소,최대, 합계를 계산한다."
   ]
  },
  {
   "cell_type": "code",
   "execution_count": 14,
   "metadata": {},
   "outputs": [
    {
     "data": {
      "text/html": [
       "<div>\n",
       "<style scoped>\n",
       "    .dataframe tbody tr th:only-of-type {\n",
       "        vertical-align: middle;\n",
       "    }\n",
       "\n",
       "    .dataframe tbody tr th {\n",
       "        vertical-align: top;\n",
       "    }\n",
       "\n",
       "    .dataframe thead th {\n",
       "        text-align: right;\n",
       "    }\n",
       "</style>\n",
       "<table border=\"1\" class=\"dataframe\">\n",
       "  <thead>\n",
       "    <tr style=\"text-align: right;\">\n",
       "      <th></th>\n",
       "      <th>mean</th>\n",
       "      <th>min</th>\n",
       "      <th>max</th>\n",
       "      <th>sum</th>\n",
       "    </tr>\n",
       "    <tr>\n",
       "      <th>continent</th>\n",
       "      <th></th>\n",
       "      <th></th>\n",
       "      <th></th>\n",
       "      <th></th>\n",
       "    </tr>\n",
       "  </thead>\n",
       "  <tbody>\n",
       "    <tr>\n",
       "      <th>AF</th>\n",
       "      <td>16.339623</td>\n",
       "      <td>0</td>\n",
       "      <td>152</td>\n",
       "      <td>866</td>\n",
       "    </tr>\n",
       "    <tr>\n",
       "      <th>AS</th>\n",
       "      <td>60.840909</td>\n",
       "      <td>0</td>\n",
       "      <td>326</td>\n",
       "      <td>2677</td>\n",
       "    </tr>\n",
       "    <tr>\n",
       "      <th>EU</th>\n",
       "      <td>132.555556</td>\n",
       "      <td>0</td>\n",
       "      <td>373</td>\n",
       "      <td>5965</td>\n",
       "    </tr>\n",
       "    <tr>\n",
       "      <th>NA</th>\n",
       "      <td>165.739130</td>\n",
       "      <td>68</td>\n",
       "      <td>438</td>\n",
       "      <td>3812</td>\n",
       "    </tr>\n",
       "    <tr>\n",
       "      <th>OC</th>\n",
       "      <td>58.437500</td>\n",
       "      <td>0</td>\n",
       "      <td>254</td>\n",
       "      <td>935</td>\n",
       "    </tr>\n",
       "    <tr>\n",
       "      <th>SA</th>\n",
       "      <td>114.750000</td>\n",
       "      <td>25</td>\n",
       "      <td>302</td>\n",
       "      <td>1377</td>\n",
       "    </tr>\n",
       "  </tbody>\n",
       "</table>\n",
       "</div>"
      ],
      "text/plain": [
       "                 mean  min  max   sum\n",
       "continent                            \n",
       "AF          16.339623    0  152   866\n",
       "AS          60.840909    0  326  2677\n",
       "EU         132.555556    0  373  5965\n",
       "NA         165.739130   68  438  3812\n",
       "OC          58.437500    0  254   935\n",
       "SA         114.750000   25  302  1377"
      ]
     },
     "execution_count": 14,
     "metadata": {},
     "output_type": "execute_result"
    }
   ],
   "source": [
    "result = drink.groupby('continent')['spirit_servings'].agg(['mean', 'min', 'max','sum'])\n",
    "result"
   ]
  },
  {
   "cell_type": "markdown",
   "metadata": {},
   "source": [
    "## 전체 평균보다 많은 알콜을 섭취하는 대륙을 구한다."
   ]
  },
  {
   "cell_type": "code",
   "execution_count": 15,
   "metadata": {},
   "outputs": [
    {
     "data": {
      "text/plain": [
       "4.717098445595855"
      ]
     },
     "execution_count": 15,
     "metadata": {},
     "output_type": "execute_result"
    }
   ],
   "source": [
    "# 알콜 섭취량의 평균을 구한다.\n",
    "total_mean = drink['total_litres_of_pure_alcohol'].mean()\n",
    "total_mean"
   ]
  },
  {
   "cell_type": "code",
   "execution_count": 16,
   "metadata": {},
   "outputs": [
    {
     "data": {
      "text/plain": [
       "continent\n",
       "AF    3.007547\n",
       "AS    2.170455\n",
       "EU    8.617778\n",
       "NA    5.995652\n",
       "OC    3.381250\n",
       "SA    6.308333\n",
       "Name: total_litres_of_pure_alcohol, dtype: float64"
      ]
     },
     "execution_count": 16,
     "metadata": {},
     "output_type": "execute_result"
    }
   ],
   "source": [
    "# 대륙별 알콜 섭취 평균\n",
    "a1 = drink.groupby('continent')['total_litres_of_pure_alcohol']\n",
    "continent_mean = a1.mean()\n",
    "continent_mean"
   ]
  },
  {
   "cell_type": "code",
   "execution_count": 17,
   "metadata": {},
   "outputs": [],
   "source": [
    "# 전체 평균보다 높은 대륙만 가져온다.\n",
    "a1 = continent_mean >= total_mean\n",
    "# continent_mean = continent_mean[a1]\n",
    "# continent_mean"
   ]
  },
  {
   "cell_type": "markdown",
   "metadata": {},
   "source": [
    "### 평균 beer_servings 가 가장 높은 대륙을 구한다."
   ]
  },
  {
   "cell_type": "code",
   "execution_count": 18,
   "metadata": {},
   "outputs": [
    {
     "data": {
      "text/plain": [
       "'EU'"
      ]
     },
     "execution_count": 18,
     "metadata": {},
     "output_type": "execute_result"
    }
   ],
   "source": [
    "a1 = drink.groupby('continent')\n",
    "a2 = a1['beer_servings'].mean()\n",
    "# 값이 가장 큰 로우의 인덱슬르 가져온다.\n",
    "beer_continent = a2.idxmax()\n",
    "beer_continent"
   ]
  },
  {
   "cell_type": "code",
   "execution_count": 19,
   "metadata": {},
   "outputs": [
    {
     "data": {
      "text/plain": [
       "continent\n",
       "AF     61.471698\n",
       "AS     37.045455\n",
       "EU    193.777778\n",
       "NA    145.434783\n",
       "OC     89.687500\n",
       "SA    175.083333\n",
       "Name: beer_servings, dtype: float64"
      ]
     },
     "execution_count": 19,
     "metadata": {},
     "output_type": "execute_result"
    }
   ],
   "source": [
    "a2"
   ]
  },
  {
   "cell_type": "markdown",
   "metadata": {},
   "source": [
    "### 위에서 구한 대륙별 spirit_serbings 의 평균,최소,최대,합계의 시각화"
   ]
  },
  {
   "cell_type": "code",
   "execution_count": 20,
   "metadata": {},
   "outputs": [
    {
     "data": {
      "text/plain": [
       "6"
      ]
     },
     "execution_count": 20,
     "metadata": {},
     "output_type": "execute_result"
    }
   ],
   "source": [
    "# 대륙의 수\n",
    "n_groups = len(result)\n",
    "n_groups"
   ]
  },
  {
   "cell_type": "code",
   "execution_count": 21,
   "metadata": {},
   "outputs": [
    {
     "name": "stdout",
     "output_type": "stream",
     "text": [
      "[16.339622641509433, 60.84090909090909, 132.55555555555554, 165.7391304347826, 58.4375, 114.75]\n",
      "[0, 0, 0, 68, 0, 25]\n",
      "[152, 326, 373, 438, 254, 302]\n",
      "[866, 2677, 5965, 3812, 935, 1377]\n"
     ]
    }
   ],
   "source": [
    "# 각 결과를 따로 추출한다.\n",
    "means = result['mean'].tolist()\n",
    "mins = result['min'].tolist()\n",
    "maxs = result['max'].tolist()\n",
    "sums = result['sum'].tolist()\n",
    "\n",
    "print(means)\n",
    "print(mins)\n",
    "print(maxs)\n",
    "print(sums)"
   ]
  },
  {
   "cell_type": "code",
   "execution_count": 22,
   "metadata": {},
   "outputs": [
    {
     "data": {
      "text/plain": [
       "array([0, 1, 2, 3, 4, 5])"
      ]
     },
     "execution_count": 22,
     "metadata": {},
     "output_type": "execute_result"
    }
   ],
   "source": [
    "# 그래프 인덱스 번호\n",
    "index= np.arange(n_groups)\n",
    "index"
   ]
  },
  {
   "cell_type": "code",
   "execution_count": 23,
   "metadata": {},
   "outputs": [],
   "source": [
    "# 그래프 바의 가로길이\n",
    "bar_width = 0.1"
   ]
  },
  {
   "cell_type": "code",
   "execution_count": 24,
   "metadata": {},
   "outputs": [
    {
     "data": {
      "image/png": "[encoded data removed]",
      "text/plain": [
       "<Figure size 1440x720 with 1 Axes>"
      ]
     },
     "metadata": {
      "needs_background": "light"
     },
     "output_type": "display_data"
    }
   ],
   "source": [
    "\n",
    "plt.bar(index, means, bar_width, color='r', label = 'Mean')\n",
    "plt.bar(index +bar_width, mins, bar_width, color='g', label='Min')\n",
    "plt.bar(index +(bar_width * 2), maxs, bar_width, color='y', label='Max')\n",
    "plt.bar(index +(bar_width * 3), sums, bar_width, color='b', label='Sum')\n",
    "\n",
    "plt.legend()\n",
    "plt.grid()\n",
    "plt.xticks(index, result.index.tolist())\n",
    "plt.show()"
   ]
  },
  {
   "cell_type": "markdown",
   "metadata": {},
   "source": [
    "### 대륙별 total_liters_of_pure_alcohol을 시각화한다."
   ]
  },
  {
   "cell_type": "code",
   "execution_count": 25,
   "metadata": {},
   "outputs": [
    {
     "data": {
      "text/plain": [
       "['AF', 'AS', 'EU', 'NA', 'OC', 'SA']"
      ]
     },
     "execution_count": 25,
     "metadata": {},
     "output_type": "execute_result"
    }
   ],
   "source": [
    "# 대륙별 평균에서 대륙 이름을 가져온다.\n",
    "continents = continent_mean.index.tolist()\n",
    "continents"
   ]
  },
  {
   "cell_type": "code",
   "execution_count": 26,
   "metadata": {},
   "outputs": [
    {
     "data": {
      "text/plain": [
       "['AF', 'AS', 'EU', 'NA', 'OC', 'SA', 'mean']"
      ]
     },
     "execution_count": 26,
     "metadata": {},
     "output_type": "execute_result"
    }
   ],
   "source": [
    "# 대륙이 이름에 평균을 추가한다.\n",
    "continents.append('mean')\n",
    "continents"
   ]
  },
  {
   "cell_type": "code",
   "execution_count": 27,
   "metadata": {},
   "outputs": [
    {
     "data": {
      "text/plain": [
       "array([0, 1, 2, 3, 4, 5, 6])"
      ]
     },
     "execution_count": 27,
     "metadata": {},
     "output_type": "execute_result"
    }
   ],
   "source": [
    "# x 축 위치\n",
    "x_pos = np.arange(len(continents))\n",
    "x_pos"
   ]
  },
  {
   "cell_type": "code",
   "execution_count": 28,
   "metadata": {},
   "outputs": [
    {
     "data": {
      "text/plain": [
       "[3.00754716981132,\n",
       " 2.1704545454545454,\n",
       " 8.617777777777777,\n",
       " 5.995652173913044,\n",
       " 3.3812500000000005,\n",
       " 6.308333333333334,\n",
       " 4.717098445595855]"
      ]
     },
     "execution_count": 28,
     "metadata": {},
     "output_type": "execute_result"
    }
   ],
   "source": [
    "# 알콜 값\n",
    "alcohol = continent_mean.tolist()\n",
    "alcohol.append(total_mean)\n",
    "alcohol"
   ]
  },
  {
   "cell_type": "code",
   "execution_count": 39,
   "metadata": {},
   "outputs": [
    {
     "data": {
      "image/png": "[encoded data removed]",
      "text/plain": [
       "<Figure size 1440x720 with 1 Axes>"
      ]
     },
     "metadata": {
      "needs_background": "light"
     },
     "output_type": "display_data"
    }
   ],
   "source": [
    "bar_list = plt.bar(x_pos, alcohol, align='center', alpha =0.5)\n",
    "# 마지막(전체 평균)은 붉은색으로 변경한다.\n",
    "bar_list[-1].set_color('r')\n",
    "# x축 이름을 대륙이름으로 설정한다.\n",
    "plt.xticks(x_pos, continents)\n",
    "# 평균위치에다 선을 그린다.\n",
    "plt.plot([0, 6], [total_mean, total_mean], 'r--')\n",
    "    \n",
    "plt.grid()\n",
    "plt.show()"
   ]
  },
  {
   "cell_type": "markdown",
   "metadata": {},
   "source": [
    "### 대륙별 beer_servings를 시각화한다."
   ]
  },
  {
   "cell_type": "code",
   "execution_count": 41,
   "metadata": {},
   "outputs": [
    {
     "data": {
      "text/plain": [
       "continent\n",
       "AF     61.471698\n",
       "AS     37.045455\n",
       "EU    193.777778\n",
       "NA    145.434783\n",
       "OC     89.687500\n",
       "SA    175.083333\n",
       "Name: beer_servings, dtype: float64"
      ]
     },
     "execution_count": 41,
     "metadata": {},
     "output_type": "execute_result"
    }
   ],
   "source": [
    "# 각 대륙별 맥주 소비량 평균을 구한다.\n",
    "beer_group = drink.groupby('continent')['beer_servings'].mean()\n",
    "beer_group"
   ]
  },
  {
   "cell_type": "code",
   "execution_count": 42,
   "metadata": {},
   "outputs": [
    {
     "data": {
      "text/plain": [
       "'EU'"
      ]
     },
     "execution_count": 42,
     "metadata": {},
     "output_type": "execute_result"
    }
   ],
   "source": [
    "# 맥주 판매량이 가장 높은 국가 이름\n",
    "beer_continent"
   ]
  },
  {
   "cell_type": "code",
   "execution_count": 43,
   "metadata": {},
   "outputs": [
    {
     "data": {
      "text/plain": [
       "['AF', 'AS', 'EU', 'NA', 'OC', 'SA']"
      ]
     },
     "execution_count": 43,
     "metadata": {},
     "output_type": "execute_result"
    }
   ],
   "source": [
    "# 각 대륙의 이름을 가져온다.\n",
    "continents = beer_group.index.tolist()\n",
    "continents"
   ]
  },
  {
   "cell_type": "code",
   "execution_count": 45,
   "metadata": {},
   "outputs": [
    {
     "data": {
      "text/plain": [
       "array([0, 1, 2, 3, 4, 5])"
      ]
     },
     "execution_count": 45,
     "metadata": {},
     "output_type": "execute_result"
    }
   ],
   "source": [
    "# 막대 그래프 인덱스\n",
    "x_pos = np.arange(len(continents))\n",
    "x_pos"
   ]
  },
  {
   "cell_type": "code",
   "execution_count": 46,
   "metadata": {},
   "outputs": [
    {
     "data": {
      "text/plain": [
       "[61.471698113207545,\n",
       " 37.04545454545455,\n",
       " 193.77777777777777,\n",
       " 145.43478260869566,\n",
       " 89.6875,\n",
       " 175.08333333333334]"
      ]
     },
     "execution_count": 46,
     "metadata": {},
     "output_type": "execute_result"
    }
   ],
   "source": [
    "# 알콜량도 구한다.\n",
    "alcohol = beer_group.tolist()\n",
    "alcohol"
   ]
  },
  {
   "cell_type": "code",
   "execution_count": 49,
   "metadata": {},
   "outputs": [
    {
     "data": {
      "image/png": "[encoded data removed]",
      "text/plain": [
       "<Figure size 1440x720 with 1 Axes>"
      ]
     },
     "metadata": {
      "needs_background": "light"
     },
     "output_type": "display_data"
    }
   ],
   "source": [
    "bar_list = plt.bar(x_pos, alcohol, align='center', alpha= 0.5)\n",
    "# 가장 많은 국가를 붉은색으로 표시한다.\n",
    "bar_list[continents.index(beer_continent)].set_color('r')\n",
    "# X 축에 국가를 표시한다.\n",
    "plt.xticks(x_pos, continents)\n",
    "\n",
    "plt.grid()\n",
    "plt.show()"
   ]
  },
  {
   "cell_type": "markdown",
   "metadata": {},
   "source": [
    "### 과연 한국인은 얼마나 독하게 술을 먹을까"
   ]
  },
  {
   "cell_type": "code",
   "execution_count": 52,
   "metadata": {},
   "outputs": [
    {
     "data": {
      "text/plain": [
       "0        0\n",
       "1      275\n",
       "2       39\n",
       "3      695\n",
       "4      319\n",
       "      ... \n",
       "188    436\n",
       "189    114\n",
       "190      6\n",
       "191     55\n",
       "192     86\n",
       "Length: 193, dtype: int64"
      ]
     },
     "execution_count": 52,
     "metadata": {},
     "output_type": "execute_result"
    }
   ],
   "source": [
    "# 전체 소비량을 구한다.\n",
    "total_servings = drink['beer_servings'] + drink['wine_servings'] + drink['spirit_servings']\n",
    "total_servings"
   ]
  },
  {
   "cell_type": "code",
   "execution_count": 53,
   "metadata": {},
   "outputs": [
    {
     "data": {
      "text/html": [
       "<div>\n",
       "<style scoped>\n",
       "    .dataframe tbody tr th:only-of-type {\n",
       "        vertical-align: middle;\n",
       "    }\n",
       "\n",
       "    .dataframe tbody tr th {\n",
       "        vertical-align: top;\n",
       "    }\n",
       "\n",
       "    .dataframe thead th {\n",
       "        text-align: right;\n",
       "    }\n",
       "</style>\n",
       "<table border=\"1\" class=\"dataframe\">\n",
       "  <thead>\n",
       "    <tr style=\"text-align: right;\">\n",
       "      <th></th>\n",
       "      <th>country</th>\n",
       "      <th>beer_servings</th>\n",
       "      <th>spirit_servings</th>\n",
       "      <th>wine_servings</th>\n",
       "      <th>total_litres_of_pure_alcohol</th>\n",
       "      <th>continent</th>\n",
       "      <th>total_servings</th>\n",
       "    </tr>\n",
       "  </thead>\n",
       "  <tbody>\n",
       "    <tr>\n",
       "      <th>0</th>\n",
       "      <td>Afghanistan</td>\n",
       "      <td>0</td>\n",
       "      <td>0</td>\n",
       "      <td>0</td>\n",
       "      <td>0.0</td>\n",
       "      <td>AS</td>\n",
       "      <td>0</td>\n",
       "    </tr>\n",
       "    <tr>\n",
       "      <th>1</th>\n",
       "      <td>Albania</td>\n",
       "      <td>89</td>\n",
       "      <td>132</td>\n",
       "      <td>54</td>\n",
       "      <td>4.9</td>\n",
       "      <td>EU</td>\n",
       "      <td>275</td>\n",
       "    </tr>\n",
       "    <tr>\n",
       "      <th>2</th>\n",
       "      <td>Algeria</td>\n",
       "      <td>25</td>\n",
       "      <td>0</td>\n",
       "      <td>14</td>\n",
       "      <td>0.7</td>\n",
       "      <td>AF</td>\n",
       "      <td>39</td>\n",
       "    </tr>\n",
       "    <tr>\n",
       "      <th>3</th>\n",
       "      <td>Andorra</td>\n",
       "      <td>245</td>\n",
       "      <td>138</td>\n",
       "      <td>312</td>\n",
       "      <td>12.4</td>\n",
       "      <td>EU</td>\n",
       "      <td>695</td>\n",
       "    </tr>\n",
       "    <tr>\n",
       "      <th>4</th>\n",
       "      <td>Angola</td>\n",
       "      <td>217</td>\n",
       "      <td>57</td>\n",
       "      <td>45</td>\n",
       "      <td>5.9</td>\n",
       "      <td>AF</td>\n",
       "      <td>319</td>\n",
       "    </tr>\n",
       "    <tr>\n",
       "      <th>...</th>\n",
       "      <td>...</td>\n",
       "      <td>...</td>\n",
       "      <td>...</td>\n",
       "      <td>...</td>\n",
       "      <td>...</td>\n",
       "      <td>...</td>\n",
       "      <td>...</td>\n",
       "    </tr>\n",
       "    <tr>\n",
       "      <th>188</th>\n",
       "      <td>Venezuela</td>\n",
       "      <td>333</td>\n",
       "      <td>100</td>\n",
       "      <td>3</td>\n",
       "      <td>7.7</td>\n",
       "      <td>SA</td>\n",
       "      <td>436</td>\n",
       "    </tr>\n",
       "    <tr>\n",
       "      <th>189</th>\n",
       "      <td>Vietnam</td>\n",
       "      <td>111</td>\n",
       "      <td>2</td>\n",
       "      <td>1</td>\n",
       "      <td>2.0</td>\n",
       "      <td>AS</td>\n",
       "      <td>114</td>\n",
       "    </tr>\n",
       "    <tr>\n",
       "      <th>190</th>\n",
       "      <td>Yemen</td>\n",
       "      <td>6</td>\n",
       "      <td>0</td>\n",
       "      <td>0</td>\n",
       "      <td>0.1</td>\n",
       "      <td>AS</td>\n",
       "      <td>6</td>\n",
       "    </tr>\n",
       "    <tr>\n",
       "      <th>191</th>\n",
       "      <td>Zambia</td>\n",
       "      <td>32</td>\n",
       "      <td>19</td>\n",
       "      <td>4</td>\n",
       "      <td>2.5</td>\n",
       "      <td>AF</td>\n",
       "      <td>55</td>\n",
       "    </tr>\n",
       "    <tr>\n",
       "      <th>192</th>\n",
       "      <td>Zimbabwe</td>\n",
       "      <td>64</td>\n",
       "      <td>18</td>\n",
       "      <td>4</td>\n",
       "      <td>4.7</td>\n",
       "      <td>AF</td>\n",
       "      <td>86</td>\n",
       "    </tr>\n",
       "  </tbody>\n",
       "</table>\n",
       "<p>193 rows × 7 columns</p>\n",
       "</div>"
      ],
      "text/plain": [
       "         country  beer_servings  spirit_servings  wine_servings  \\\n",
       "0    Afghanistan              0                0              0   \n",
       "1        Albania             89              132             54   \n",
       "2        Algeria             25                0             14   \n",
       "3        Andorra            245              138            312   \n",
       "4         Angola            217               57             45   \n",
       "..           ...            ...              ...            ...   \n",
       "188    Venezuela            333              100              3   \n",
       "189      Vietnam            111                2              1   \n",
       "190        Yemen              6                0              0   \n",
       "191       Zambia             32               19              4   \n",
       "192     Zimbabwe             64               18              4   \n",
       "\n",
       "     total_litres_of_pure_alcohol continent  total_servings  \n",
       "0                             0.0        AS               0  \n",
       "1                             4.9        EU             275  \n",
       "2                             0.7        AF              39  \n",
       "3                            12.4        EU             695  \n",
       "4                             5.9        AF             319  \n",
       "..                            ...       ...             ...  \n",
       "188                           7.7        SA             436  \n",
       "189                           2.0        AS             114  \n",
       "190                           0.1        AS               6  \n",
       "191                           2.5        AF              55  \n",
       "192                           4.7        AF              86  \n",
       "\n",
       "[193 rows x 7 columns]"
      ]
     },
     "execution_count": 53,
     "metadata": {},
     "output_type": "execute_result"
    }
   ],
   "source": [
    "drink['total_servings'] = total_servings\n",
    "drink"
   ]
  },
  {
   "cell_type": "code",
   "execution_count": 56,
   "metadata": {},
   "outputs": [
    {
     "data": {
      "text/html": [
       "<div>\n",
       "<style scoped>\n",
       "    .dataframe tbody tr th:only-of-type {\n",
       "        vertical-align: middle;\n",
       "    }\n",
       "\n",
       "    .dataframe tbody tr th {\n",
       "        vertical-align: top;\n",
       "    }\n",
       "\n",
       "    .dataframe thead th {\n",
       "        text-align: right;\n",
       "    }\n",
       "</style>\n",
       "<table border=\"1\" class=\"dataframe\">\n",
       "  <thead>\n",
       "    <tr style=\"text-align: right;\">\n",
       "      <th></th>\n",
       "      <th>country</th>\n",
       "      <th>beer_servings</th>\n",
       "      <th>spirit_servings</th>\n",
       "      <th>wine_servings</th>\n",
       "      <th>total_litres_of_pure_alcohol</th>\n",
       "      <th>continent</th>\n",
       "      <th>total_servings</th>\n",
       "      <th>alcohol_rate</th>\n",
       "    </tr>\n",
       "  </thead>\n",
       "  <tbody>\n",
       "    <tr>\n",
       "      <th>0</th>\n",
       "      <td>Afghanistan</td>\n",
       "      <td>0</td>\n",
       "      <td>0</td>\n",
       "      <td>0</td>\n",
       "      <td>0.0</td>\n",
       "      <td>AS</td>\n",
       "      <td>0</td>\n",
       "      <td>0.000000</td>\n",
       "    </tr>\n",
       "    <tr>\n",
       "      <th>1</th>\n",
       "      <td>Albania</td>\n",
       "      <td>89</td>\n",
       "      <td>132</td>\n",
       "      <td>54</td>\n",
       "      <td>4.9</td>\n",
       "      <td>EU</td>\n",
       "      <td>275</td>\n",
       "      <td>0.017818</td>\n",
       "    </tr>\n",
       "    <tr>\n",
       "      <th>2</th>\n",
       "      <td>Algeria</td>\n",
       "      <td>25</td>\n",
       "      <td>0</td>\n",
       "      <td>14</td>\n",
       "      <td>0.7</td>\n",
       "      <td>AF</td>\n",
       "      <td>39</td>\n",
       "      <td>0.017949</td>\n",
       "    </tr>\n",
       "    <tr>\n",
       "      <th>3</th>\n",
       "      <td>Andorra</td>\n",
       "      <td>245</td>\n",
       "      <td>138</td>\n",
       "      <td>312</td>\n",
       "      <td>12.4</td>\n",
       "      <td>EU</td>\n",
       "      <td>695</td>\n",
       "      <td>0.017842</td>\n",
       "    </tr>\n",
       "    <tr>\n",
       "      <th>4</th>\n",
       "      <td>Angola</td>\n",
       "      <td>217</td>\n",
       "      <td>57</td>\n",
       "      <td>45</td>\n",
       "      <td>5.9</td>\n",
       "      <td>AF</td>\n",
       "      <td>319</td>\n",
       "      <td>0.018495</td>\n",
       "    </tr>\n",
       "    <tr>\n",
       "      <th>...</th>\n",
       "      <td>...</td>\n",
       "      <td>...</td>\n",
       "      <td>...</td>\n",
       "      <td>...</td>\n",
       "      <td>...</td>\n",
       "      <td>...</td>\n",
       "      <td>...</td>\n",
       "      <td>...</td>\n",
       "    </tr>\n",
       "    <tr>\n",
       "      <th>188</th>\n",
       "      <td>Venezuela</td>\n",
       "      <td>333</td>\n",
       "      <td>100</td>\n",
       "      <td>3</td>\n",
       "      <td>7.7</td>\n",
       "      <td>SA</td>\n",
       "      <td>436</td>\n",
       "      <td>0.017661</td>\n",
       "    </tr>\n",
       "    <tr>\n",
       "      <th>189</th>\n",
       "      <td>Vietnam</td>\n",
       "      <td>111</td>\n",
       "      <td>2</td>\n",
       "      <td>1</td>\n",
       "      <td>2.0</td>\n",
       "      <td>AS</td>\n",
       "      <td>114</td>\n",
       "      <td>0.017544</td>\n",
       "    </tr>\n",
       "    <tr>\n",
       "      <th>190</th>\n",
       "      <td>Yemen</td>\n",
       "      <td>6</td>\n",
       "      <td>0</td>\n",
       "      <td>0</td>\n",
       "      <td>0.1</td>\n",
       "      <td>AS</td>\n",
       "      <td>6</td>\n",
       "      <td>0.016667</td>\n",
       "    </tr>\n",
       "    <tr>\n",
       "      <th>191</th>\n",
       "      <td>Zambia</td>\n",
       "      <td>32</td>\n",
       "      <td>19</td>\n",
       "      <td>4</td>\n",
       "      <td>2.5</td>\n",
       "      <td>AF</td>\n",
       "      <td>55</td>\n",
       "      <td>0.045455</td>\n",
       "    </tr>\n",
       "    <tr>\n",
       "      <th>192</th>\n",
       "      <td>Zimbabwe</td>\n",
       "      <td>64</td>\n",
       "      <td>18</td>\n",
       "      <td>4</td>\n",
       "      <td>4.7</td>\n",
       "      <td>AF</td>\n",
       "      <td>86</td>\n",
       "      <td>0.054651</td>\n",
       "    </tr>\n",
       "  </tbody>\n",
       "</table>\n",
       "<p>193 rows × 8 columns</p>\n",
       "</div>"
      ],
      "text/plain": [
       "         country  beer_servings  spirit_servings  wine_servings  \\\n",
       "0    Afghanistan              0                0              0   \n",
       "1        Albania             89              132             54   \n",
       "2        Algeria             25                0             14   \n",
       "3        Andorra            245              138            312   \n",
       "4         Angola            217               57             45   \n",
       "..           ...            ...              ...            ...   \n",
       "188    Venezuela            333              100              3   \n",
       "189      Vietnam            111                2              1   \n",
       "190        Yemen              6                0              0   \n",
       "191       Zambia             32               19              4   \n",
       "192     Zimbabwe             64               18              4   \n",
       "\n",
       "     total_litres_of_pure_alcohol continent  total_servings  alcohol_rate  \n",
       "0                             0.0        AS               0      0.000000  \n",
       "1                             4.9        EU             275      0.017818  \n",
       "2                             0.7        AF              39      0.017949  \n",
       "3                            12.4        EU             695      0.017842  \n",
       "4                             5.9        AF             319      0.018495  \n",
       "..                            ...       ...             ...           ...  \n",
       "188                           7.7        SA             436      0.017661  \n",
       "189                           2.0        AS             114      0.017544  \n",
       "190                           0.1        AS               6      0.016667  \n",
       "191                           2.5        AF              55      0.045455  \n",
       "192                           4.7        AF              86      0.054651  \n",
       "\n",
       "[193 rows x 8 columns]"
      ]
     },
     "execution_count": 56,
     "metadata": {},
     "output_type": "execute_result"
    }
   ],
   "source": [
    "# 술 소비량 대비 알콜 비율특성을 생성한다.\n",
    "a1 = drink['total_litres_of_pure_alcohol'] / drink['total_servings']\n",
    "# 결측치를 0으로 채워준다.\n",
    "a1.fillna(0, inplace=True)\n",
    "\n",
    "drink['alcohol_rate'] = a1\n",
    "drink"
   ]
  },
  {
   "cell_type": "code",
   "execution_count": 57,
   "metadata": {},
   "outputs": [
    {
     "data": {
      "text/html": [
       "<div>\n",
       "<style scoped>\n",
       "    .dataframe tbody tr th:only-of-type {\n",
       "        vertical-align: middle;\n",
       "    }\n",
       "\n",
       "    .dataframe tbody tr th {\n",
       "        vertical-align: top;\n",
       "    }\n",
       "\n",
       "    .dataframe thead th {\n",
       "        text-align: right;\n",
       "    }\n",
       "</style>\n",
       "<table border=\"1\" class=\"dataframe\">\n",
       "  <thead>\n",
       "    <tr style=\"text-align: right;\">\n",
       "      <th></th>\n",
       "      <th>country</th>\n",
       "      <th>alcohol_rate</th>\n",
       "    </tr>\n",
       "  </thead>\n",
       "  <tbody>\n",
       "    <tr>\n",
       "      <th>0</th>\n",
       "      <td>Afghanistan</td>\n",
       "      <td>0.000000</td>\n",
       "    </tr>\n",
       "    <tr>\n",
       "      <th>1</th>\n",
       "      <td>Albania</td>\n",
       "      <td>0.017818</td>\n",
       "    </tr>\n",
       "    <tr>\n",
       "      <th>2</th>\n",
       "      <td>Algeria</td>\n",
       "      <td>0.017949</td>\n",
       "    </tr>\n",
       "    <tr>\n",
       "      <th>3</th>\n",
       "      <td>Andorra</td>\n",
       "      <td>0.017842</td>\n",
       "    </tr>\n",
       "    <tr>\n",
       "      <th>4</th>\n",
       "      <td>Angola</td>\n",
       "      <td>0.018495</td>\n",
       "    </tr>\n",
       "    <tr>\n",
       "      <th>...</th>\n",
       "      <td>...</td>\n",
       "      <td>...</td>\n",
       "    </tr>\n",
       "    <tr>\n",
       "      <th>188</th>\n",
       "      <td>Venezuela</td>\n",
       "      <td>0.017661</td>\n",
       "    </tr>\n",
       "    <tr>\n",
       "      <th>189</th>\n",
       "      <td>Vietnam</td>\n",
       "      <td>0.017544</td>\n",
       "    </tr>\n",
       "    <tr>\n",
       "      <th>190</th>\n",
       "      <td>Yemen</td>\n",
       "      <td>0.016667</td>\n",
       "    </tr>\n",
       "    <tr>\n",
       "      <th>191</th>\n",
       "      <td>Zambia</td>\n",
       "      <td>0.045455</td>\n",
       "    </tr>\n",
       "    <tr>\n",
       "      <th>192</th>\n",
       "      <td>Zimbabwe</td>\n",
       "      <td>0.054651</td>\n",
       "    </tr>\n",
       "  </tbody>\n",
       "</table>\n",
       "<p>193 rows × 2 columns</p>\n",
       "</div>"
      ],
      "text/plain": [
       "         country  alcohol_rate\n",
       "0    Afghanistan      0.000000\n",
       "1        Albania      0.017818\n",
       "2        Algeria      0.017949\n",
       "3        Andorra      0.017842\n",
       "4         Angola      0.018495\n",
       "..           ...           ...\n",
       "188    Venezuela      0.017661\n",
       "189      Vietnam      0.017544\n",
       "190        Yemen      0.016667\n",
       "191       Zambia      0.045455\n",
       "192     Zimbabwe      0.054651\n",
       "\n",
       "[193 rows x 2 columns]"
      ]
     },
     "execution_count": 57,
     "metadata": {},
     "output_type": "execute_result"
    }
   ],
   "source": [
    "# 국가와 알콜 비율을 추출한다.\n",
    "country_with_rank = drink[['country','alcohol_rate']]\n",
    "country_with_rank"
   ]
  },
  {
   "cell_type": "code",
   "execution_count": 59,
   "metadata": {},
   "outputs": [
    {
     "name": "stderr",
     "output_type": "stream",
     "text": [
      "C:\\ProgramData\\Anaconda3\\lib\\site-packages\\ipykernel_launcher.py:2: SettingWithCopyWarning: \n",
      "A value is trying to be set on a copy of a slice from a DataFrame\n",
      "\n",
      "See the caveats in the documentation: https://pandas.pydata.org/pandas-docs/stable/user_guide/indexing.html#returning-a-view-versus-a-copy\n",
      "  \n"
     ]
    },
    {
     "data": {
      "text/html": [
       "<div>\n",
       "<style scoped>\n",
       "    .dataframe tbody tr th:only-of-type {\n",
       "        vertical-align: middle;\n",
       "    }\n",
       "\n",
       "    .dataframe tbody tr th {\n",
       "        vertical-align: top;\n",
       "    }\n",
       "\n",
       "    .dataframe thead th {\n",
       "        text-align: right;\n",
       "    }\n",
       "</style>\n",
       "<table border=\"1\" class=\"dataframe\">\n",
       "  <thead>\n",
       "    <tr style=\"text-align: right;\">\n",
       "      <th></th>\n",
       "      <th>country</th>\n",
       "      <th>alcohol_rate</th>\n",
       "    </tr>\n",
       "  </thead>\n",
       "  <tbody>\n",
       "    <tr>\n",
       "      <th>63</th>\n",
       "      <td>Gambia</td>\n",
       "      <td>0.266667</td>\n",
       "    </tr>\n",
       "    <tr>\n",
       "      <th>153</th>\n",
       "      <td>Sierra Leone</td>\n",
       "      <td>0.223333</td>\n",
       "    </tr>\n",
       "    <tr>\n",
       "      <th>124</th>\n",
       "      <td>Nigeria</td>\n",
       "      <td>0.185714</td>\n",
       "    </tr>\n",
       "    <tr>\n",
       "      <th>179</th>\n",
       "      <td>Uganda</td>\n",
       "      <td>0.153704</td>\n",
       "    </tr>\n",
       "    <tr>\n",
       "      <th>142</th>\n",
       "      <td>Rwanda</td>\n",
       "      <td>0.151111</td>\n",
       "    </tr>\n",
       "    <tr>\n",
       "      <th>...</th>\n",
       "      <td>...</td>\n",
       "      <td>...</td>\n",
       "    </tr>\n",
       "    <tr>\n",
       "      <th>103</th>\n",
       "      <td>Maldives</td>\n",
       "      <td>0.000000</td>\n",
       "    </tr>\n",
       "    <tr>\n",
       "      <th>97</th>\n",
       "      <td>Libya</td>\n",
       "      <td>0.000000</td>\n",
       "    </tr>\n",
       "    <tr>\n",
       "      <th>79</th>\n",
       "      <td>Iran</td>\n",
       "      <td>0.000000</td>\n",
       "    </tr>\n",
       "    <tr>\n",
       "      <th>90</th>\n",
       "      <td>Kuwait</td>\n",
       "      <td>0.000000</td>\n",
       "    </tr>\n",
       "    <tr>\n",
       "      <th>0</th>\n",
       "      <td>Afghanistan</td>\n",
       "      <td>0.000000</td>\n",
       "    </tr>\n",
       "  </tbody>\n",
       "</table>\n",
       "<p>193 rows × 2 columns</p>\n",
       "</div>"
      ],
      "text/plain": [
       "          country  alcohol_rate\n",
       "63         Gambia      0.266667\n",
       "153  Sierra Leone      0.223333\n",
       "124       Nigeria      0.185714\n",
       "179        Uganda      0.153704\n",
       "142        Rwanda      0.151111\n",
       "..            ...           ...\n",
       "103      Maldives      0.000000\n",
       "97          Libya      0.000000\n",
       "79           Iran      0.000000\n",
       "90         Kuwait      0.000000\n",
       "0     Afghanistan      0.000000\n",
       "\n",
       "[193 rows x 2 columns]"
      ]
     },
     "execution_count": 59,
     "metadata": {},
     "output_type": "execute_result"
    }
   ],
   "source": [
    "# alcohol_rate를 기준으로 내림차순 정렬을 한다.\n",
    "country_with_rank.sort_values(by='alcohol_rate', ascending = False, inplace=True)\n",
    "country_with_rank"
   ]
  },
  {
   "cell_type": "code",
   "execution_count": 60,
   "metadata": {},
   "outputs": [
    {
     "data": {
      "text/plain": [
       "['Gambia',\n",
       " 'Sierra Leone',\n",
       " 'Nigeria',\n",
       " 'Uganda',\n",
       " 'Rwanda',\n",
       " 'Tanzania',\n",
       " 'Burkina Faso',\n",
       " 'Central African Republic',\n",
       " \"Cote d'Ivoire\",\n",
       " 'Mali',\n",
       " 'Sudan',\n",
       " 'Malawi',\n",
       " 'Burundi',\n",
       " 'DR Congo',\n",
       " 'South Korea',\n",
       " 'Zimbabwe',\n",
       " 'Swaziland',\n",
       " 'Zambia',\n",
       " 'Ghana',\n",
       " 'Cameroon',\n",
       " 'Laos',\n",
       " 'Guinea-Bissau',\n",
       " 'Ethiopia',\n",
       " 'Eritrea',\n",
       " 'Belarus',\n",
       " 'Lesotho',\n",
       " 'Japan',\n",
       " 'Chad',\n",
       " 'Togo',\n",
       " 'Botswana',\n",
       " 'Kenya',\n",
       " 'Benin',\n",
       " 'South Africa',\n",
       " 'New Zealand',\n",
       " 'Finland',\n",
       " 'Lithuania',\n",
       " 'Comoros',\n",
       " 'Saudi Arabia',\n",
       " 'Estonia',\n",
       " 'Congo',\n",
       " 'United Kingdom',\n",
       " 'Ireland',\n",
       " 'Australia',\n",
       " 'Argentina',\n",
       " 'Slovakia',\n",
       " 'Latvia',\n",
       " 'Mozambique',\n",
       " 'Cabo Verde',\n",
       " 'Angola',\n",
       " 'Sri Lanka',\n",
       " 'Portugal',\n",
       " 'Ukraine',\n",
       " 'France',\n",
       " 'Guinea',\n",
       " 'Egypt',\n",
       " 'Nepal',\n",
       " 'Norway',\n",
       " 'St. Lucia',\n",
       " 'Dominica',\n",
       " 'Sweden',\n",
       " 'Jamaica',\n",
       " 'Spain',\n",
       " 'Singapore',\n",
       " 'Paraguay',\n",
       " 'Azerbaijan',\n",
       " 'Switzerland',\n",
       " 'Bahamas',\n",
       " 'Turkmenistan',\n",
       " 'Armenia',\n",
       " 'Vanuatu',\n",
       " 'Qatar',\n",
       " 'Haiti',\n",
       " 'Cook Islands',\n",
       " 'Montenegro',\n",
       " 'Sao Tome & Principe',\n",
       " 'Oman',\n",
       " 'Algeria',\n",
       " 'United Arab Emirates',\n",
       " 'Georgia',\n",
       " 'Guyana',\n",
       " 'Greece',\n",
       " 'Lebanon',\n",
       " 'China',\n",
       " 'Liberia',\n",
       " 'Kyrgyzstan',\n",
       " 'Uzbekistan',\n",
       " 'Bosnia-Herzegovina',\n",
       " 'Barbados',\n",
       " 'St. Vincent & the Grenadines',\n",
       " 'Grenada',\n",
       " 'Namibia',\n",
       " 'Suriname',\n",
       " 'Cambodia',\n",
       " 'El Salvador',\n",
       " 'India',\n",
       " 'Malta',\n",
       " 'Mongolia',\n",
       " 'Thailand',\n",
       " 'Cuba',\n",
       " 'St. Kitts & Nevis',\n",
       " 'Cyprus',\n",
       " 'Croatia',\n",
       " 'Papua New Guinea',\n",
       " 'Bahrain',\n",
       " 'Syria',\n",
       " 'Morocco',\n",
       " 'Tuvalu',\n",
       " 'Italy',\n",
       " 'Kiribati',\n",
       " 'Jordan',\n",
       " 'Bulgaria',\n",
       " 'Moldova',\n",
       " 'Equatorial Guinea',\n",
       " 'Andorra',\n",
       " 'Chile',\n",
       " 'Denmark',\n",
       " 'Uruguay',\n",
       " 'Philippines',\n",
       " 'Hungary',\n",
       " 'Antigua & Barbuda',\n",
       " 'Albania',\n",
       " 'Costa Rica',\n",
       " 'Luxembourg',\n",
       " 'Macedonia',\n",
       " 'Russian Federation',\n",
       " 'Kazakhstan',\n",
       " 'Austria',\n",
       " 'Madagascar',\n",
       " 'Trinidad & Tobago',\n",
       " 'Netherlands',\n",
       " 'Nicaragua',\n",
       " 'Belgium',\n",
       " 'Dominican Republic',\n",
       " 'Slovenia',\n",
       " 'Poland',\n",
       " 'Honduras',\n",
       " 'Canada',\n",
       " 'Romania',\n",
       " 'Serbia',\n",
       " 'Czech Republic',\n",
       " 'Iceland',\n",
       " 'Tonga',\n",
       " 'Guatemala',\n",
       " 'Djibouti',\n",
       " 'Brazil',\n",
       " 'Peru',\n",
       " 'Israel',\n",
       " 'Niue',\n",
       " 'USA',\n",
       " 'Germany',\n",
       " 'Fiji',\n",
       " 'Micronesia',\n",
       " 'Panama',\n",
       " 'Mauritius',\n",
       " 'Samoa',\n",
       " 'Mexico',\n",
       " 'Belize',\n",
       " 'Venezuela',\n",
       " 'Gabon',\n",
       " 'Colombia',\n",
       " 'Tajikistan',\n",
       " 'Malaysia',\n",
       " 'Solomon Islands',\n",
       " 'Senegal',\n",
       " 'Brunei',\n",
       " 'Palau',\n",
       " 'Seychelles',\n",
       " 'Bolivia',\n",
       " 'Ecuador',\n",
       " 'Tunisia',\n",
       " 'Nauru',\n",
       " 'Vietnam',\n",
       " 'Turkey',\n",
       " 'Bhutan',\n",
       " 'Indonesia',\n",
       " 'Timor-Leste',\n",
       " 'Myanmar',\n",
       " 'Niger',\n",
       " 'Yemen',\n",
       " 'Iraq',\n",
       " 'Bangladesh',\n",
       " 'North Korea',\n",
       " 'Somalia',\n",
       " 'San Marino',\n",
       " 'Pakistan',\n",
       " 'Monaco',\n",
       " 'Mauritania',\n",
       " 'Marshall Islands',\n",
       " 'Maldives',\n",
       " 'Libya',\n",
       " 'Iran',\n",
       " 'Kuwait',\n",
       " 'Afghanistan']"
      ]
     },
     "execution_count": 60,
     "metadata": {},
     "output_type": "execute_result"
    }
   ],
   "source": [
    "# 국가별 순위 정보를 그래프로 그린다.\n",
    "# 국가 목록을 가져온다\n",
    "country_list = country_with_rank['country'].tolist()\n",
    "country_list"
   ]
  },
  {
   "cell_type": "code",
   "execution_count": 62,
   "metadata": {},
   "outputs": [
    {
     "data": {
      "text/plain": [
       "array([  0,   1,   2,   3,   4,   5,   6,   7,   8,   9,  10,  11,  12,\n",
       "        13,  14,  15,  16,  17,  18,  19,  20,  21,  22,  23,  24,  25,\n",
       "        26,  27,  28,  29,  30,  31,  32,  33,  34,  35,  36,  37,  38,\n",
       "        39,  40,  41,  42,  43,  44,  45,  46,  47,  48,  49,  50,  51,\n",
       "        52,  53,  54,  55,  56,  57,  58,  59,  60,  61,  62,  63,  64,\n",
       "        65,  66,  67,  68,  69,  70,  71,  72,  73,  74,  75,  76,  77,\n",
       "        78,  79,  80,  81,  82,  83,  84,  85,  86,  87,  88,  89,  90,\n",
       "        91,  92,  93,  94,  95,  96,  97,  98,  99, 100, 101, 102, 103,\n",
       "       104, 105, 106, 107, 108, 109, 110, 111, 112, 113, 114, 115, 116,\n",
       "       117, 118, 119, 120, 121, 122, 123, 124, 125, 126, 127, 128, 129,\n",
       "       130, 131, 132, 133, 134, 135, 136, 137, 138, 139, 140, 141, 142,\n",
       "       143, 144, 145, 146, 147, 148, 149, 150, 151, 152, 153, 154, 155,\n",
       "       156, 157, 158, 159, 160, 161, 162, 163, 164, 165, 166, 167, 168,\n",
       "       169, 170, 171, 172, 173, 174, 175, 176, 177, 178, 179, 180, 181,\n",
       "       182, 183, 184, 185, 186, 187, 188, 189, 190, 191, 192])"
      ]
     },
     "execution_count": 62,
     "metadata": {},
     "output_type": "execute_result"
    }
   ],
   "source": [
    "# x 축으로 사용할 인덱스\n",
    "x_pos = np.arange(len(country_list))\n",
    "x_pos"
   ]
  },
  {
   "cell_type": "code",
   "execution_count": 63,
   "metadata": {},
   "outputs": [
    {
     "data": {
      "text/plain": [
       "[0.26666666666666666,\n",
       " 0.22333333333333333,\n",
       " 0.18571428571428572,\n",
       " 0.1537037037037037,\n",
       " 0.1511111111111111,\n",
       " 0.1325581395348837,\n",
       " 0.11025641025641025,\n",
       " 0.09,\n",
       " 0.08888888888888889,\n",
       " 0.08571428571428572,\n",
       " 0.08095238095238096,\n",
       " 0.075,\n",
       " 0.0715909090909091,\n",
       " 0.06388888888888888,\n",
       " 0.0593939393939394,\n",
       " 0.05465116279069768,\n",
       " 0.05,\n",
       " 0.045454545454545456,\n",
       " 0.04090909090909091,\n",
       " 0.038157894736842106,\n",
       " 0.03351351351351351,\n",
       " 0.03125,\n",
       " 0.03043478260869565,\n",
       " 0.027777777777777776,\n",
       " 0.02585278276481149,\n",
       " 0.025225225225225224,\n",
       " 0.023728813559322035,\n",
       " 0.023529411764705882,\n",
       " 0.02280701754385965,\n",
       " 0.022222222222222223,\n",
       " 0.021951219512195124,\n",
       " 0.021568627450980395,\n",
       " 0.021465968586387434,\n",
       " 0.020350109409190374,\n",
       " 0.02028397565922921,\n",
       " 0.02006220839813375,\n",
       " 0.02,\n",
       " 0.02,\n",
       " 0.019916142557651992,\n",
       " 0.019767441860465116,\n",
       " 0.01925925925925926,\n",
       " 0.01912751677852349,\n",
       " 0.01908256880733945,\n",
       " 0.018906605922551254,\n",
       " 0.01884297520661157,\n",
       " 0.018783542039355994,\n",
       " 0.018571428571428572,\n",
       " 0.018518518518518517,\n",
       " 0.018495297805642633,\n",
       " 0.018333333333333333,\n",
       " 0.018333333333333333,\n",
       " 0.01823770491803279,\n",
       " 0.018209876543209876,\n",
       " 0.018181818181818184,\n",
       " 0.018181818181818184,\n",
       " 0.018181818181818184,\n",
       " 0.018157181571815718,\n",
       " 0.018132854578096946,\n",
       " 0.01813186813186813,\n",
       " 0.018090452261306532,\n",
       " 0.018085106382978722,\n",
       " 0.018083182640144666,\n",
       " 0.018072289156626505,\n",
       " 0.018069306930693068,\n",
       " 0.018055555555555557,\n",
       " 0.018053097345132742,\n",
       " 0.01805157593123209,\n",
       " 0.018032786885245903,\n",
       " 0.01800947867298578,\n",
       " 0.018000000000000002,\n",
       " 0.018000000000000002,\n",
       " 0.017987804878048783,\n",
       " 0.017987804878048783,\n",
       " 0.01794871794871795,\n",
       " 0.01794871794871795,\n",
       " 0.017948717948717947,\n",
       " 0.017948717948717947,\n",
       " 0.017948717948717947,\n",
       " 0.017940199335548173,\n",
       " 0.017929292929292927,\n",
       " 0.017926565874730023,\n",
       " 0.017924528301886792,\n",
       " 0.017921146953405017,\n",
       " 0.017919075144508672,\n",
       " 0.01791044776119403,\n",
       " 0.01791044776119403,\n",
       " 0.0178988326848249,\n",
       " 0.017897727272727273,\n",
       " 0.017897727272727273,\n",
       " 0.017894736842105265,\n",
       " 0.017894736842105262,\n",
       " 0.01789137380191693,\n",
       " 0.01788617886178862,\n",
       " 0.01788617886178862,\n",
       " 0.01788617886178862,\n",
       " 0.017886178861788615,\n",
       " 0.01788321167883212,\n",
       " 0.01787709497206704,\n",
       " 0.017872340425531916,\n",
       " 0.01786542923433875,\n",
       " 0.017864923747276686,\n",
       " 0.01786339754816112,\n",
       " 0.017857142857142856,\n",
       " 0.017857142857142856,\n",
       " 0.017857142857142856,\n",
       " 0.017857142857142856,\n",
       " 0.017857142857142856,\n",
       " 0.017857142857142856,\n",
       " 0.017857142857142856,\n",
       " 0.017857142857142856,\n",
       " 0.01785095320623917,\n",
       " 0.017847025495750707,\n",
       " 0.017846153846153845,\n",
       " 0.017841726618705037,\n",
       " 0.01784037558685446,\n",
       " 0.01783876500857633,\n",
       " 0.017837837837837836,\n",
       " 0.017829457364341085,\n",
       " 0.017823343848580444,\n",
       " 0.01781818181818182,\n",
       " 0.01781818181818182,\n",
       " 0.017813765182186237,\n",
       " 0.017812500000000002,\n",
       " 0.01780821917808219,\n",
       " 0.01780185758513932,\n",
       " 0.01780104712041885,\n",
       " 0.017798165137614678,\n",
       " 0.017777777777777778,\n",
       " 0.017777777777777778,\n",
       " 0.01776937618147448,\n",
       " 0.017766497461928935,\n",
       " 0.017766497461928935,\n",
       " 0.017765042979942695,\n",
       " 0.017755443886097153,\n",
       " 0.01775244299674267,\n",
       " 0.01775147928994083,\n",
       " 0.017748917748917747,\n",
       " 0.017747440273037544,\n",
       " 0.0177449168207024,\n",
       " 0.01774436090225564,\n",
       " 0.017741935483870968,\n",
       " 0.017741935483870968,\n",
       " 0.017741935483870968,\n",
       " 0.017741935483870968,\n",
       " 0.017733990147783252,\n",
       " 0.017732558139534883,\n",
       " 0.01773049645390071,\n",
       " 0.017721518987341773,\n",
       " 0.017718940936863544,\n",
       " 0.017711598746081504,\n",
       " 0.017699115044247787,\n",
       " 0.01769230769230769,\n",
       " 0.01769041769041769,\n",
       " 0.017687074829931974,\n",
       " 0.017687074829931974,\n",
       " 0.017684887459807074,\n",
       " 0.01766233766233766,\n",
       " 0.017660550458715597,\n",
       " 0.01765873015873016,\n",
       " 0.01764705882352941,\n",
       " 0.01764705882352941,\n",
       " 0.01764705882352941,\n",
       " 0.01764705882352941,\n",
       " 0.01764705882352941,\n",
       " 0.01764705882352941,\n",
       " 0.01760204081632653,\n",
       " 0.01759656652360515,\n",
       " 0.01759259259259259,\n",
       " 0.017573221757322177,\n",
       " 0.01756756756756757,\n",
       " 0.017543859649122806,\n",
       " 0.017543859649122806,\n",
       " 0.017499999999999998,\n",
       " 0.017391304347826087,\n",
       " 0.016666666666666666,\n",
       " 0.016666666666666666,\n",
       " 0.016666666666666666,\n",
       " 0.016666666666666666,\n",
       " 0.016666666666666666,\n",
       " 0.016666666666666666,\n",
       " 0.0,\n",
       " 0.0,\n",
       " 0.0,\n",
       " 0.0,\n",
       " 0.0,\n",
       " 0.0,\n",
       " 0.0,\n",
       " 0.0,\n",
       " 0.0,\n",
       " 0.0,\n",
       " 0.0,\n",
       " 0.0,\n",
       " 0.0]"
      ]
     },
     "execution_count": 63,
     "metadata": {},
     "output_type": "execute_result"
    }
   ],
   "source": [
    "# y 축에 사용할 값들\n",
    "rank = country_with_rank['alcohol_rate'].tolist()\n",
    "rank"
   ]
  },
  {
   "cell_type": "code",
   "execution_count": 69,
   "metadata": {},
   "outputs": [
    {
     "name": "stdout",
     "output_type": "stream",
     "text": [
      "0.0593939393939394\n"
     ]
    },
    {
     "data": {
      "image/png": "[encoded data removed]",
      "text/plain": [
       "<Figure size 1440x720 with 1 Axes>"
      ]
     },
     "metadata": {
      "needs_background": "light"
     },
     "output_type": "display_data"
    }
   ],
   "source": [
    "bar_list = plt.bar(x_pos, rank)\n",
    "# 한국은 빨간색으로 표시한다.\n",
    "bar_list[country_list.index('South Korea')].set_color('r')\n",
    "\n",
    "# 한국에 표시한다.\n",
    "# 한국의 막대 인덱스를 가져온다.\n",
    "korea_rank = country_list.index('South Korea')\n",
    "# 한국 알콜 수치\n",
    "a1 = country_with_rank[country_with_rank['country'] == 'South Korea']\n",
    "korea_alc_rate = a1['alcohol_rate'].values[0]\n",
    "\n",
    "print(korea_alc_rate)\n",
    "\n",
    "\n",
    "plt.annotate('South Korea', xy=(korea_rank, korea_alc_rate),\n",
    "             xytext=(korea_rank + 10, korea_alc_rate + 0.05),\n",
    "            arrowprops = dict(facecolor='red', shrink=0.05))\n",
    "\n",
    "\n",
    "\n",
    "plt.show()"
   ]
  },
  {
   "cell_type": "code",
   "execution_count": null,
   "metadata": {},
   "outputs": [],
   "source": []
  }
 ],
 "metadata": {
  "kernelspec": {
   "display_name": "Python 3",
   "language": "python",
   "name": "python3"
  },
  "language_info": {
   "codemirror_mode": {
    "name": "ipython",
    "version": 3
   },
   "file_extension": ".py",
   "mimetype": "text/x-python",
   "name": "python",
   "nbconvert_exporter": "python",
   "pygments_lexer": "ipython3",
   "version": "3.7.6"
  }
 },
 "nbformat": 4,
 "nbformat_minor": 4
}
