{
 "cells": [
  {
   "cell_type": "code",
   "execution_count": 1,
   "metadata": {},
   "outputs": [],
   "source": [
    "import pandas as pd"
   ]
  },
  {
   "cell_type": "markdown",
   "metadata": {},
   "source": [
    "### 맛집 데이터 정돈하기"
   ]
  },
  {
   "cell_type": "code",
   "execution_count": 2,
   "metadata": {},
   "outputs": [
    {
     "data": {
      "text/html": [
       "<div>\n",
       "<style scoped>\n",
       "    .dataframe tbody tr th:only-of-type {\n",
       "        vertical-align: middle;\n",
       "    }\n",
       "\n",
       "    .dataframe tbody tr th {\n",
       "        vertical-align: top;\n",
       "    }\n",
       "\n",
       "    .dataframe thead th {\n",
       "        text-align: right;\n",
       "    }\n",
       "</style>\n",
       "<table border=\"1\" class=\"dataframe\">\n",
       "  <thead>\n",
       "    <tr style=\"text-align: right;\">\n",
       "      <th></th>\n",
       "      <th>Restaurant Name</th>\n",
       "      <th>Rating</th>\n",
       "      <th>Address</th>\n",
       "      <th>Tel</th>\n",
       "      <th>Food</th>\n",
       "      <th>Price</th>\n",
       "      <th>Parking</th>\n",
       "      <th>Operating Time</th>\n",
       "      <th>Holiday</th>\n",
       "    </tr>\n",
       "  </thead>\n",
       "  <tbody>\n",
       "    <tr>\n",
       "      <th>0</th>\n",
       "      <td>이나니와요스케</td>\n",
       "      <td>4.4</td>\n",
       "      <td>서울시 중구 을지로1가 192-11</td>\n",
       "      <td>02-772-9994</td>\n",
       "      <td>라멘 / 소바 / 우동</td>\n",
       "      <td>만원-2만원</td>\n",
       "      <td>주차공간없음</td>\n",
       "      <td>11:00 - 23:00</td>\n",
       "      <td>일</td>\n",
       "    </tr>\n",
       "    <tr>\n",
       "      <th>1</th>\n",
       "      <td>바오차이</td>\n",
       "      <td>4.4</td>\n",
       "      <td>서울시 중구 을지로2가 203</td>\n",
       "      <td>02-6031-0107</td>\n",
       "      <td>정통 중식 / 일반 중식</td>\n",
       "      <td>2만원-3만원</td>\n",
       "      <td>유료주차 가능</td>\n",
       "      <td>11:30 - 21:30</td>\n",
       "      <td>NaN</td>\n",
       "    </tr>\n",
       "    <tr>\n",
       "      <th>2</th>\n",
       "      <td>라칸티나</td>\n",
       "      <td>4.4</td>\n",
       "      <td>서울시 중구 을지로1가 50</td>\n",
       "      <td>02-777-2579</td>\n",
       "      <td>이탈리안</td>\n",
       "      <td>3만원-4만원</td>\n",
       "      <td>NaN</td>\n",
       "      <td>월-토: 11:30 - 23:00 일: 17:30 - 23:00</td>\n",
       "      <td>NaN</td>\n",
       "    </tr>\n",
       "    <tr>\n",
       "      <th>3</th>\n",
       "      <td>라세느</td>\n",
       "      <td>4.3</td>\n",
       "      <td>서울시 중구 소공동 1</td>\n",
       "      <td>02-317-7171</td>\n",
       "      <td>뷔페</td>\n",
       "      <td>4만원 이상</td>\n",
       "      <td>발렛</td>\n",
       "      <td>06:00 - 22:00</td>\n",
       "      <td>NaN</td>\n",
       "    </tr>\n",
       "    <tr>\n",
       "      <th>4</th>\n",
       "      <td>산수갑산</td>\n",
       "      <td>4.3</td>\n",
       "      <td>서울시 중구 인현동1가 15-4</td>\n",
       "      <td>02-2275-6654</td>\n",
       "      <td>탕 / 찌개 / 전골</td>\n",
       "      <td>만원 미만</td>\n",
       "      <td>유료주차 가능</td>\n",
       "      <td>월-금: 11:30 - 22:00 토: 11:30 - 20:00</td>\n",
       "      <td>일</td>\n",
       "    </tr>\n",
       "    <tr>\n",
       "      <th>...</th>\n",
       "      <td>...</td>\n",
       "      <td>...</td>\n",
       "      <td>...</td>\n",
       "      <td>...</td>\n",
       "      <td>...</td>\n",
       "      <td>...</td>\n",
       "      <td>...</td>\n",
       "      <td>...</td>\n",
       "      <td>...</td>\n",
       "    </tr>\n",
       "    <tr>\n",
       "      <th>395</th>\n",
       "      <td>누룩나무</td>\n",
       "      <td>4</td>\n",
       "      <td>서울시 종로구 관훈동 118-19</td>\n",
       "      <td>02-722-3398</td>\n",
       "      <td>전통 주점 / 포차</td>\n",
       "      <td>만원-2만원</td>\n",
       "      <td>주차공간없음</td>\n",
       "      <td>17:00 - 01:30</td>\n",
       "      <td>일</td>\n",
       "    </tr>\n",
       "    <tr>\n",
       "      <th>396</th>\n",
       "      <td>옴</td>\n",
       "      <td>4</td>\n",
       "      <td>서울시 종로구 신문로1가 2</td>\n",
       "      <td>02-723-4848</td>\n",
       "      <td>인도 음식</td>\n",
       "      <td>만원-2만원</td>\n",
       "      <td>주차공간없음</td>\n",
       "      <td>11:00 - 22:00</td>\n",
       "      <td>NaN</td>\n",
       "    </tr>\n",
       "    <tr>\n",
       "      <th>397</th>\n",
       "      <td>코블러</td>\n",
       "      <td>4</td>\n",
       "      <td>서울시 종로구 내자동 157</td>\n",
       "      <td>02-733-6421</td>\n",
       "      <td>칵테일 / 와인</td>\n",
       "      <td>만원-2만원</td>\n",
       "      <td>유료주차 가능</td>\n",
       "      <td>19:00 - 03:00</td>\n",
       "      <td>일</td>\n",
       "    </tr>\n",
       "    <tr>\n",
       "      <th>398</th>\n",
       "      <td>클류치</td>\n",
       "      <td>4</td>\n",
       "      <td>서울시 종로구 명륜3가 79-1</td>\n",
       "      <td>010-2702-1496</td>\n",
       "      <td>카페 / 디저트</td>\n",
       "      <td>만원 미만</td>\n",
       "      <td>주차공간없음</td>\n",
       "      <td>월-토: 10:00 - 23:00 일: 11:00 - 20:00</td>\n",
       "      <td>NaN</td>\n",
       "    </tr>\n",
       "    <tr>\n",
       "      <th>399</th>\n",
       "      <td>도토리</td>\n",
       "      <td>4</td>\n",
       "      <td>서울시 종로구 안국동 24-1</td>\n",
       "      <td>02-6405-8153</td>\n",
       "      <td>기타 한식</td>\n",
       "      <td>만원 미만</td>\n",
       "      <td>유료주차 가능</td>\n",
       "      <td>월-금: 10:30 - 21:00 토-일: 10:30 - 22:00</td>\n",
       "      <td>NaN</td>\n",
       "    </tr>\n",
       "  </tbody>\n",
       "</table>\n",
       "<p>400 rows × 9 columns</p>\n",
       "</div>"
      ],
      "text/plain": [
       "    Restaurant Name Rating              Address            Tel           Food  \\\n",
       "0           이나니와요스케    4.4  서울시 중구 을지로1가 192-11    02-772-9994   라멘 / 소바 / 우동   \n",
       "1              바오차이    4.4     서울시 중구 을지로2가 203   02-6031-0107  정통 중식 / 일반 중식   \n",
       "2              라칸티나    4.4      서울시 중구 을지로1가 50    02-777-2579           이탈리안   \n",
       "3               라세느    4.3         서울시 중구 소공동 1    02-317-7171             뷔페   \n",
       "4              산수갑산    4.3    서울시 중구 인현동1가 15-4   02-2275-6654    탕 / 찌개 / 전골   \n",
       "..              ...    ...                  ...            ...            ...   \n",
       "395            누룩나무      4   서울시 종로구 관훈동 118-19    02-722-3398     전통 주점 / 포차   \n",
       "396               옴      4      서울시 종로구 신문로1가 2    02-723-4848          인도 음식   \n",
       "397             코블러      4      서울시 종로구 내자동 157    02-733-6421       칵테일 / 와인   \n",
       "398             클류치      4    서울시 종로구 명륜3가 79-1  010-2702-1496       카페 / 디저트   \n",
       "399             도토리      4     서울시 종로구 안국동 24-1   02-6405-8153          기타 한식   \n",
       "\n",
       "       Price  Parking                         Operating Time Holiday  \n",
       "0     만원-2만원   주차공간없음                          11:00 - 23:00       일  \n",
       "1    2만원-3만원  유료주차 가능                          11:30 - 21:30     NaN  \n",
       "2    3만원-4만원      NaN    월-토: 11:30 - 23:00 일: 17:30 - 23:00     NaN  \n",
       "3     4만원 이상       발렛                          06:00 - 22:00     NaN  \n",
       "4      만원 미만  유료주차 가능    월-금: 11:30 - 22:00 토: 11:30 - 20:00       일  \n",
       "..       ...      ...                                    ...     ...  \n",
       "395   만원-2만원   주차공간없음                          17:00 - 01:30       일  \n",
       "396   만원-2만원   주차공간없음                          11:00 - 22:00     NaN  \n",
       "397   만원-2만원  유료주차 가능                          19:00 - 03:00       일  \n",
       "398    만원 미만   주차공간없음    월-토: 10:00 - 23:00 일: 11:00 - 20:00     NaN  \n",
       "399    만원 미만  유료주차 가능  월-금: 10:30 - 21:00 토-일: 10:30 - 22:00     NaN  \n",
       "\n",
       "[400 rows x 9 columns]"
      ]
     },
     "execution_count": 2,
     "metadata": {},
     "output_type": "execute_result"
    }
   ],
   "source": [
    "# 데이터를 읽어온다.\n",
    "matzip = pd.read_csv('data/matzipData.csv')\n",
    "matzip"
   ]
  },
  {
   "cell_type": "code",
   "execution_count": 3,
   "metadata": {},
   "outputs": [
    {
     "name": "stdout",
     "output_type": "stream",
     "text": [
      "<class 'pandas.core.frame.DataFrame'>\n",
      "RangeIndex: 400 entries, 0 to 399\n",
      "Data columns (total 9 columns):\n",
      " #   Column           Non-Null Count  Dtype \n",
      "---  ------           --------------  ----- \n",
      " 0   Restaurant Name  400 non-null    object\n",
      " 1   Rating           400 non-null    object\n",
      " 2   Address          400 non-null    object\n",
      " 3   Tel              350 non-null    object\n",
      " 4   Food             400 non-null    object\n",
      " 5   Price            397 non-null    object\n",
      " 6   Parking          329 non-null    object\n",
      " 7   Operating Time   364 non-null    object\n",
      " 8   Holiday          126 non-null    object\n",
      "dtypes: object(9)\n",
      "memory usage: 28.2+ KB\n"
     ]
    }
   ],
   "source": [
    "# 정보 확인\n",
    "matzip.info()"
   ]
  },
  {
   "cell_type": "code",
   "execution_count": 4,
   "metadata": {},
   "outputs": [
    {
     "data": {
      "text/plain": [
       "Restaurant Name      0\n",
       "Rating               0\n",
       "Address              0\n",
       "Tel                 50\n",
       "Food                 0\n",
       "Price                3\n",
       "Parking             71\n",
       "Operating Time      36\n",
       "Holiday            274\n",
       "dtype: int64"
      ]
     },
     "execution_count": 4,
     "metadata": {},
     "output_type": "execute_result"
    }
   ],
   "source": [
    "# 결측치 확인\n",
    "matzip.isna().sum()"
   ]
  },
  {
   "cell_type": "code",
   "execution_count": 5,
   "metadata": {},
   "outputs": [
    {
     "data": {
      "text/plain": [
       "274"
      ]
     },
     "execution_count": 5,
     "metadata": {},
     "output_type": "execute_result"
    }
   ],
   "source": [
    "# Holiday가 결측치인 데이터의 수를 구한다.\n",
    "matzip['Holiday'].isna().sum()"
   ]
  },
  {
   "cell_type": "code",
   "execution_count": 6,
   "metadata": {},
   "outputs": [
    {
     "data": {
      "text/html": [
       "<div>\n",
       "<style scoped>\n",
       "    .dataframe tbody tr th:only-of-type {\n",
       "        vertical-align: middle;\n",
       "    }\n",
       "\n",
       "    .dataframe tbody tr th {\n",
       "        vertical-align: top;\n",
       "    }\n",
       "\n",
       "    .dataframe thead th {\n",
       "        text-align: right;\n",
       "    }\n",
       "</style>\n",
       "<table border=\"1\" class=\"dataframe\">\n",
       "  <thead>\n",
       "    <tr style=\"text-align: right;\">\n",
       "      <th></th>\n",
       "      <th>Restaurant Name</th>\n",
       "      <th>Rating</th>\n",
       "      <th>Address</th>\n",
       "      <th>Tel</th>\n",
       "      <th>Food</th>\n",
       "      <th>Price</th>\n",
       "      <th>Parking</th>\n",
       "      <th>Operating Time</th>\n",
       "      <th>Holiday</th>\n",
       "    </tr>\n",
       "  </thead>\n",
       "  <tbody>\n",
       "    <tr>\n",
       "      <th>1</th>\n",
       "      <td>바오차이</td>\n",
       "      <td>4.4</td>\n",
       "      <td>서울시 중구 을지로2가 203</td>\n",
       "      <td>02-6031-0107</td>\n",
       "      <td>정통 중식 / 일반 중식</td>\n",
       "      <td>2만원-3만원</td>\n",
       "      <td>유료주차 가능</td>\n",
       "      <td>11:30 - 21:30</td>\n",
       "      <td>NaN</td>\n",
       "    </tr>\n",
       "    <tr>\n",
       "      <th>2</th>\n",
       "      <td>라칸티나</td>\n",
       "      <td>4.4</td>\n",
       "      <td>서울시 중구 을지로1가 50</td>\n",
       "      <td>02-777-2579</td>\n",
       "      <td>이탈리안</td>\n",
       "      <td>3만원-4만원</td>\n",
       "      <td>NaN</td>\n",
       "      <td>월-토: 11:30 - 23:00 일: 17:30 - 23:00</td>\n",
       "      <td>NaN</td>\n",
       "    </tr>\n",
       "    <tr>\n",
       "      <th>3</th>\n",
       "      <td>라세느</td>\n",
       "      <td>4.3</td>\n",
       "      <td>서울시 중구 소공동 1</td>\n",
       "      <td>02-317-7171</td>\n",
       "      <td>뷔페</td>\n",
       "      <td>4만원 이상</td>\n",
       "      <td>발렛</td>\n",
       "      <td>06:00 - 22:00</td>\n",
       "      <td>NaN</td>\n",
       "    </tr>\n",
       "    <tr>\n",
       "      <th>5</th>\n",
       "      <td>양미옥</td>\n",
       "      <td>4.3</td>\n",
       "      <td>서울시 중구 을지로3가 141-2</td>\n",
       "      <td>02-2275-8838</td>\n",
       "      <td>고기 요리</td>\n",
       "      <td>2만원-3만원</td>\n",
       "      <td>유료주차 가능</td>\n",
       "      <td>11:00 - 22:00</td>\n",
       "      <td>NaN</td>\n",
       "    </tr>\n",
       "    <tr>\n",
       "      <th>6</th>\n",
       "      <td>커피한약방</td>\n",
       "      <td>4.1</td>\n",
       "      <td>서울시 중구 을지로2가 101-34</td>\n",
       "      <td>070-4148-4242</td>\n",
       "      <td>카페 / 디저트</td>\n",
       "      <td>만원 미만</td>\n",
       "      <td>주차공간없음</td>\n",
       "      <td>월-금: 08:00 - 22:30 토: 11:00 - 21:00 일: 12:00 -...</td>\n",
       "      <td>NaN</td>\n",
       "    </tr>\n",
       "    <tr>\n",
       "      <th>...</th>\n",
       "      <td>...</td>\n",
       "      <td>...</td>\n",
       "      <td>...</td>\n",
       "      <td>...</td>\n",
       "      <td>...</td>\n",
       "      <td>...</td>\n",
       "      <td>...</td>\n",
       "      <td>...</td>\n",
       "      <td>...</td>\n",
       "    </tr>\n",
       "    <tr>\n",
       "      <th>391</th>\n",
       "      <td>수도원</td>\n",
       "      <td>4</td>\n",
       "      <td>서울시 종로구 동숭동 50-11</td>\n",
       "      <td>02-747-1933</td>\n",
       "      <td>칵테일 / 와인</td>\n",
       "      <td>만원-2만원</td>\n",
       "      <td>유료주차 가능</td>\n",
       "      <td>18:00 - 03:00</td>\n",
       "      <td>NaN</td>\n",
       "    </tr>\n",
       "    <tr>\n",
       "      <th>394</th>\n",
       "      <td>산채향</td>\n",
       "      <td>4</td>\n",
       "      <td>서울시 종로구 신문로2가 1-209</td>\n",
       "      <td>02-733-1199</td>\n",
       "      <td>한정식 / 백반 / 정통 한식</td>\n",
       "      <td>만원-2만원</td>\n",
       "      <td>유료주차 가능</td>\n",
       "      <td>10:30 - 21:30</td>\n",
       "      <td>NaN</td>\n",
       "    </tr>\n",
       "    <tr>\n",
       "      <th>396</th>\n",
       "      <td>옴</td>\n",
       "      <td>4</td>\n",
       "      <td>서울시 종로구 신문로1가 2</td>\n",
       "      <td>02-723-4848</td>\n",
       "      <td>인도 음식</td>\n",
       "      <td>만원-2만원</td>\n",
       "      <td>주차공간없음</td>\n",
       "      <td>11:00 - 22:00</td>\n",
       "      <td>NaN</td>\n",
       "    </tr>\n",
       "    <tr>\n",
       "      <th>398</th>\n",
       "      <td>클류치</td>\n",
       "      <td>4</td>\n",
       "      <td>서울시 종로구 명륜3가 79-1</td>\n",
       "      <td>010-2702-1496</td>\n",
       "      <td>카페 / 디저트</td>\n",
       "      <td>만원 미만</td>\n",
       "      <td>주차공간없음</td>\n",
       "      <td>월-토: 10:00 - 23:00 일: 11:00 - 20:00</td>\n",
       "      <td>NaN</td>\n",
       "    </tr>\n",
       "    <tr>\n",
       "      <th>399</th>\n",
       "      <td>도토리</td>\n",
       "      <td>4</td>\n",
       "      <td>서울시 종로구 안국동 24-1</td>\n",
       "      <td>02-6405-8153</td>\n",
       "      <td>기타 한식</td>\n",
       "      <td>만원 미만</td>\n",
       "      <td>유료주차 가능</td>\n",
       "      <td>월-금: 10:30 - 21:00 토-일: 10:30 - 22:00</td>\n",
       "      <td>NaN</td>\n",
       "    </tr>\n",
       "  </tbody>\n",
       "</table>\n",
       "<p>274 rows × 9 columns</p>\n",
       "</div>"
      ],
      "text/plain": [
       "    Restaurant Name Rating              Address            Tel  \\\n",
       "1              바오차이    4.4     서울시 중구 을지로2가 203   02-6031-0107   \n",
       "2              라칸티나    4.4      서울시 중구 을지로1가 50    02-777-2579   \n",
       "3               라세느    4.3         서울시 중구 소공동 1    02-317-7171   \n",
       "5               양미옥    4.3   서울시 중구 을지로3가 141-2   02-2275-8838   \n",
       "6             커피한약방    4.1  서울시 중구 을지로2가 101-34  070-4148-4242   \n",
       "..              ...    ...                  ...            ...   \n",
       "391             수도원      4    서울시 종로구 동숭동 50-11    02-747-1933   \n",
       "394             산채향      4  서울시 종로구 신문로2가 1-209    02-733-1199   \n",
       "396               옴      4      서울시 종로구 신문로1가 2    02-723-4848   \n",
       "398             클류치      4    서울시 종로구 명륜3가 79-1  010-2702-1496   \n",
       "399             도토리      4     서울시 종로구 안국동 24-1   02-6405-8153   \n",
       "\n",
       "                 Food    Price  Parking  \\\n",
       "1       정통 중식 / 일반 중식  2만원-3만원  유료주차 가능   \n",
       "2                이탈리안  3만원-4만원      NaN   \n",
       "3                  뷔페   4만원 이상       발렛   \n",
       "5               고기 요리  2만원-3만원  유료주차 가능   \n",
       "6            카페 / 디저트    만원 미만   주차공간없음   \n",
       "..                ...      ...      ...   \n",
       "391          칵테일 / 와인   만원-2만원  유료주차 가능   \n",
       "394  한정식 / 백반 / 정통 한식   만원-2만원  유료주차 가능   \n",
       "396             인도 음식   만원-2만원   주차공간없음   \n",
       "398          카페 / 디저트    만원 미만   주차공간없음   \n",
       "399             기타 한식    만원 미만  유료주차 가능   \n",
       "\n",
       "                                        Operating Time Holiday  \n",
       "1                                        11:30 - 21:30     NaN  \n",
       "2                  월-토: 11:30 - 23:00 일: 17:30 - 23:00     NaN  \n",
       "3                                        06:00 - 22:00     NaN  \n",
       "5                                        11:00 - 22:00     NaN  \n",
       "6    월-금: 08:00 - 22:30 토: 11:00 - 21:00 일: 12:00 -...     NaN  \n",
       "..                                                 ...     ...  \n",
       "391                                      18:00 - 03:00     NaN  \n",
       "394                                      10:30 - 21:30     NaN  \n",
       "396                                      11:00 - 22:00     NaN  \n",
       "398                월-토: 10:00 - 23:00 일: 11:00 - 20:00     NaN  \n",
       "399              월-금: 10:30 - 21:00 토-일: 10:30 - 22:00     NaN  \n",
       "\n",
       "[274 rows x 9 columns]"
      ]
     },
     "execution_count": 6,
     "metadata": {},
     "output_type": "execute_result"
    }
   ],
   "source": [
    "# Holiday가 결측이인 로의의 인덱스를 가져온다.\n",
    "a1 = matzip['Holiday'].isna()\n",
    "a2 = matzip[a1]\n",
    "a2"
   ]
  },
  {
   "cell_type": "markdown",
   "metadata": {},
   "source": [
    "### 결측치 처리"
   ]
  },
  {
   "cell_type": "code",
   "execution_count": 7,
   "metadata": {},
   "outputs": [
    {
     "data": {
      "text/plain": [
       "Restaurant Name      0\n",
       "Rating               0\n",
       "Address              0\n",
       "Tel                 50\n",
       "Food                 0\n",
       "Price                3\n",
       "Parking             71\n",
       "Operating Time      36\n",
       "Holiday            274\n",
       "dtype: int64"
      ]
     },
     "execution_count": 7,
     "metadata": {},
     "output_type": "execute_result"
    }
   ],
   "source": [
    "matzip.isna().sum()"
   ]
  },
  {
   "cell_type": "markdown",
   "metadata": {},
   "source": [
    "#### 휴일에 대한 결측치 처리"
   ]
  },
  {
   "cell_type": "code",
   "execution_count": 8,
   "metadata": {},
   "outputs": [
    {
     "data": {
      "text/plain": [
       "Int64Index([  1,   2,   3,   5,   6,   7,   8,  10,  11,  12,\n",
       "            ...\n",
       "            383, 385, 386, 389, 390, 391, 394, 396, 398, 399],\n",
       "           dtype='int64', length=274)"
      ]
     },
     "execution_count": 8,
     "metadata": {},
     "output_type": "execute_result"
    }
   ],
   "source": [
    "# 휴일에 결측가 있는 로우의 인덱스를 가져온다.\n",
    "# Holiday 가 결측치인 곳은 True, 아닌 곳은 False로 되어 있는 결과를 가져온다.\n",
    "a1 = matzip['Holiday'].isna()\n",
    "# 위에서 가져온 결과를 지정하여 결측치인 로우만 가져온다\n",
    "a2 = matzip[a1]\n",
    "a2.index"
   ]
  },
  {
   "cell_type": "code",
   "execution_count": 9,
   "metadata": {},
   "outputs": [
    {
     "data": {
      "text/plain": [
       "일                     75\n",
       "월                     21\n",
       "토, 일                   7\n",
       "화                      3\n",
       "일, 월                   2\n",
       "수                      2\n",
       "일, 첫째 월                2\n",
       "둘째/넷째 일                2\n",
       "월, 화                   2\n",
       "첫째/셋째 일                1\n",
       "토-일                    1\n",
       "토                      1\n",
       "격주 월                   1\n",
       "월, 마지막 화               1\n",
       "넷째 일, 월                1\n",
       "월, 일                   1\n",
       "둘째, 넷째 일               1\n",
       "첫째, 셋째 월, 둘째, 넷째 일     1\n",
       "월, 셋째 화                1\n",
       "Name: Holiday, dtype: int64"
      ]
     },
     "execution_count": 9,
     "metadata": {},
     "output_type": "execute_result"
    }
   ],
   "source": [
    "# Holiday에 어떠한 값들이 저장되어 있는지 확인한다.\n",
    "matzip['Holiday'].value_counts()"
   ]
  },
  {
   "cell_type": "code",
   "execution_count": 10,
   "metadata": {},
   "outputs": [],
   "source": [
    "# 결측치를 연중무휴로 채워준다.\n",
    "matzip['Holiday'] = matzip['Holiday'].fillna('연중무휴')"
   ]
  },
  {
   "cell_type": "code",
   "execution_count": 11,
   "metadata": {},
   "outputs": [
    {
     "data": {
      "text/plain": [
       "0"
      ]
     },
     "execution_count": 11,
     "metadata": {},
     "output_type": "execute_result"
    }
   ],
   "source": [
    "# 결측치 확인\n",
    "matzip['Holiday'].isna().sum()"
   ]
  },
  {
   "cell_type": "code",
   "execution_count": 12,
   "metadata": {},
   "outputs": [
    {
     "data": {
      "text/plain": [
       "연중무휴                  274\n",
       "일                      75\n",
       "월                      21\n",
       "토, 일                    7\n",
       "화                       3\n",
       "일, 월                    2\n",
       "수                       2\n",
       "일, 첫째 월                 2\n",
       "둘째/넷째 일                 2\n",
       "월, 화                    2\n",
       "첫째/셋째 일                 1\n",
       "토-일                     1\n",
       "토                       1\n",
       "격주 월                    1\n",
       "월, 마지막 화                1\n",
       "넷째 일, 월                 1\n",
       "월, 일                    1\n",
       "둘째, 넷째 일                1\n",
       "첫째, 셋째 월, 둘째, 넷째 일      1\n",
       "월, 셋째 화                 1\n",
       "Name: Holiday, dtype: int64"
      ]
     },
     "execution_count": 12,
     "metadata": {},
     "output_type": "execute_result"
    }
   ],
   "source": [
    "matzip['Holiday'].value_counts()"
   ]
  },
  {
   "cell_type": "markdown",
   "metadata": {},
   "source": [
    "#### 가격에 대한 결측치 처리"
   ]
  },
  {
   "cell_type": "code",
   "execution_count": 13,
   "metadata": {},
   "outputs": [
    {
     "data": {
      "text/plain": [
       "만원-2만원     161\n",
       "만원 미만      159\n",
       "2만원-3만원     46\n",
       "4만원 이상      22\n",
       "3만원-4만원      9\n",
       "Name: Price, dtype: int64"
      ]
     },
     "execution_count": 13,
     "metadata": {},
     "output_type": "execute_result"
    }
   ],
   "source": [
    "# 가격에 값이 어떻게 들어 있는지 확인한다.\n",
    "matzip['Price'].value_counts()"
   ]
  },
  {
   "cell_type": "code",
   "execution_count": 14,
   "metadata": {},
   "outputs": [
    {
     "data": {
      "text/plain": [
       "3"
      ]
     },
     "execution_count": 14,
     "metadata": {},
     "output_type": "execute_result"
    }
   ],
   "source": [
    "# 결측치 확인\n",
    "matzip['Price'].isna().sum()"
   ]
  },
  {
   "cell_type": "code",
   "execution_count": 15,
   "metadata": {},
   "outputs": [
    {
     "data": {
      "text/plain": [
       "0       만원-2만원\n",
       "1      2만원-3만원\n",
       "2      3만원-4만원\n",
       "3       4만원 이상\n",
       "4        만원 미만\n",
       "        ...   \n",
       "395     만원-2만원\n",
       "396     만원-2만원\n",
       "397     만원-2만원\n",
       "398      만원 미만\n",
       "399      만원 미만\n",
       "Name: Price, Length: 400, dtype: object"
      ]
     },
     "execution_count": 15,
     "metadata": {},
     "output_type": "execute_result"
    }
   ],
   "source": [
    "# 결측이인 값을 10000으로 채워준다.\n",
    "# 이유는...그냥 채웠습니다~\n",
    "matzip_price = matzip['Price'].fillna('10000').copy()\n",
    "matzip_price"
   ]
  },
  {
   "cell_type": "code",
   "execution_count": 16,
   "metadata": {},
   "outputs": [
    {
     "data": {
      "text/plain": [
       "0"
      ]
     },
     "execution_count": 16,
     "metadata": {},
     "output_type": "execute_result"
    }
   ],
   "source": [
    "# 결측치 확인\n",
    "matzip_price.isna().sum()"
   ]
  },
  {
   "cell_type": "code",
   "execution_count": 17,
   "metadata": {},
   "outputs": [
    {
     "data": {
      "text/plain": [
       "만원-2만원     161\n",
       "만원 미만      159\n",
       "2만원-3만원     46\n",
       "4만원 이상      22\n",
       "3만원-4만원      9\n",
       "10000        3\n",
       "Name: Price, dtype: int64"
      ]
     },
     "execution_count": 17,
     "metadata": {},
     "output_type": "execute_result"
    }
   ],
   "source": [
    "# 저장되어 있는 값 확인\n",
    "matzip_price.value_counts()"
   ]
  },
  {
   "cell_type": "code",
   "execution_count": 18,
   "metadata": {},
   "outputs": [
    {
     "data": {
      "text/plain": [
       "10000    162\n",
       "20000    161\n",
       "30000     46\n",
       "40000     31\n",
       "Name: Price, dtype: int64"
      ]
     },
     "execution_count": 18,
     "metadata": {},
     "output_type": "execute_result"
    }
   ],
   "source": [
    "# 값을 변경한다.\n",
    "# 만원이라는 글자를 10000 으로 변경한다.\n",
    "matzip_price = matzip_price.str.replace('만원', '10000')\n",
    "# 210000을 20000으로 변경한다.\n",
    "matzip_price = matzip_price.str.replace('210000', '20000')\n",
    "# 310000을 30000으로 변경한다.\n",
    "matzip_price = matzip_price.str.replace('310000', '30000')\n",
    "# 410000을 40000으로 변경한다.\n",
    "matzip_price = matzip_price.str.replace('410000', '40000')\n",
    "# 10000- 를 제거한다.\n",
    "matzip_price = matzip_price.str.replace('10000-', '')\n",
    "# 20000- 를 제거한다.\n",
    "matzip_price = matzip_price.str.replace('20000-', '')\n",
    "# 30000- 를 제거한다.\n",
    "matzip_price = matzip_price.str.replace('30000-', '')\n",
    "# 미만을 제거한다\n",
    "matzip_price = matzip_price.str.replace('미만', '')\n",
    "# 이상을 제거한다.\n",
    "matzip_price = matzip_price.str.replace('이상', '')\n",
    "# 공백을 제거한다.\n",
    "matzip_price = matzip_price.str.strip()\n",
    "\n",
    "matzip_price.value_counts()"
   ]
  },
  {
   "cell_type": "code",
   "execution_count": 19,
   "metadata": {},
   "outputs": [
    {
     "data": {
      "text/plain": [
       "dtype('O')"
      ]
     },
     "execution_count": 19,
     "metadata": {},
     "output_type": "execute_result"
    }
   ],
   "source": [
    "# 변환후 값의 타입을 확인한다.\n",
    "matzip_price.dtype"
   ]
  },
  {
   "cell_type": "code",
   "execution_count": 20,
   "metadata": {},
   "outputs": [
    {
     "data": {
      "text/plain": [
       "dtype('int64')"
      ]
     },
     "execution_count": 20,
     "metadata": {},
     "output_type": "execute_result"
    }
   ],
   "source": [
    "# 정수형으로 변환한다.\n",
    "matzip_price = matzip_price.astype('int64')\n",
    "matzip_price.dtype"
   ]
  },
  {
   "cell_type": "code",
   "execution_count": 21,
   "metadata": {},
   "outputs": [
    {
     "data": {
      "text/plain": [
       "10000    162\n",
       "20000    161\n",
       "30000     46\n",
       "40000     31\n",
       "Name: Price, dtype: int64"
      ]
     },
     "execution_count": 21,
     "metadata": {},
     "output_type": "execute_result"
    }
   ],
   "source": [
    "matzip_price.value_counts()"
   ]
  },
  {
   "cell_type": "code",
   "execution_count": 22,
   "metadata": {},
   "outputs": [
    {
     "data": {
      "text/plain": [
       "10000    162\n",
       "20000    161\n",
       "30000     46\n",
       "40000     31\n",
       "Name: Price, dtype: int64"
      ]
     },
     "execution_count": 22,
     "metadata": {},
     "output_type": "execute_result"
    }
   ],
   "source": [
    "# 원본 데이터프레임에 넣어준다.\n",
    "matzip['Price'] = matzip_price\n",
    "matzip['Price'].value_counts()"
   ]
  },
  {
   "cell_type": "markdown",
   "metadata": {},
   "source": [
    "#### 평점"
   ]
  },
  {
   "cell_type": "code",
   "execution_count": 23,
   "metadata": {},
   "outputs": [
    {
     "data": {
      "text/plain": [
       "-      155\n",
       "4       53\n",
       "4.1     47\n",
       "4.2     40\n",
       "4.3     37\n",
       "4.4     20\n",
       "4.5      9\n",
       "3.9      7\n",
       "3.7      6\n",
       "4.6      5\n",
       "3.3      5\n",
       "3.4      4\n",
       "3.6      4\n",
       "4.7      3\n",
       "3.8      2\n",
       "3.2      1\n",
       "2.7      1\n",
       "3.1      1\n",
       "Name: Rating, dtype: int64"
      ]
     },
     "execution_count": 23,
     "metadata": {},
     "output_type": "execute_result"
    }
   ],
   "source": [
    "# 평점에 저장되어 있는 값들을 확인한다.\n",
    "matzip['Rating'].value_counts()"
   ]
  },
  {
   "cell_type": "code",
   "execution_count": 24,
   "metadata": {},
   "outputs": [
    {
     "data": {
      "text/plain": [
       "0.0    155\n",
       "4       53\n",
       "4.1     47\n",
       "4.2     40\n",
       "4.3     37\n",
       "4.4     20\n",
       "4.5      9\n",
       "3.9      7\n",
       "3.7      6\n",
       "4.6      5\n",
       "3.3      5\n",
       "3.4      4\n",
       "3.6      4\n",
       "4.7      3\n",
       "3.8      2\n",
       "3.2      1\n",
       "2.7      1\n",
       "3.1      1\n",
       "Name: Rating, dtype: int64"
      ]
     },
     "execution_count": 24,
     "metadata": {},
     "output_type": "execute_result"
    }
   ],
   "source": [
    "# - 는 0.0으로 변경한다.\n",
    "matzip['Rating'] = matzip['Rating'].str.replace('-', '0.0')\n",
    "matzip['Rating'].value_counts()"
   ]
  },
  {
   "cell_type": "code",
   "execution_count": 25,
   "metadata": {},
   "outputs": [
    {
     "data": {
      "text/plain": [
       "dtype('O')"
      ]
     },
     "execution_count": 25,
     "metadata": {},
     "output_type": "execute_result"
    }
   ],
   "source": [
    "# 값들의 타입을 확인한다.\n",
    "matzip['Rating'].dtype"
   ]
  },
  {
   "cell_type": "code",
   "execution_count": 26,
   "metadata": {},
   "outputs": [
    {
     "data": {
      "text/plain": [
       "dtype('float64')"
      ]
     },
     "execution_count": 26,
     "metadata": {},
     "output_type": "execute_result"
    }
   ],
   "source": [
    "# 실수 타입으로 변환한다.\n",
    "matzip['Rating'] = matzip['Rating'].astype('float')\n",
    "matzip['Rating'].dtype"
   ]
  },
  {
   "cell_type": "code",
   "execution_count": 27,
   "metadata": {},
   "outputs": [
    {
     "data": {
      "text/plain": [
       "0.0    155\n",
       "4.0     53\n",
       "4.1     47\n",
       "4.2     40\n",
       "4.3     37\n",
       "4.4     20\n",
       "4.5      9\n",
       "3.9      7\n",
       "3.7      6\n",
       "4.6      5\n",
       "3.3      5\n",
       "3.4      4\n",
       "3.6      4\n",
       "4.7      3\n",
       "3.8      2\n",
       "3.2      1\n",
       "3.1      1\n",
       "2.7      1\n",
       "Name: Rating, dtype: int64"
      ]
     },
     "execution_count": 27,
     "metadata": {},
     "output_type": "execute_result"
    }
   ],
   "source": [
    "matzip['Rating'].value_counts()"
   ]
  },
  {
   "cell_type": "markdown",
   "metadata": {},
   "source": [
    "### 전화번호 결측치 처리"
   ]
  },
  {
   "cell_type": "code",
   "execution_count": 28,
   "metadata": {},
   "outputs": [
    {
     "data": {
      "text/plain": [
       "02-2251-8383    2\n",
       "02-6388-5500    2\n",
       "02-733-6671     1\n",
       "02-2274-5247    1\n",
       "02-725-8400     1\n",
       "               ..\n",
       "02-6112-1050    1\n",
       "02-2153-0722    1\n",
       "02-779-1405     1\n",
       "02-2153-0788    1\n",
       "02-733-1199     1\n",
       "Name: Tel, Length: 348, dtype: int64"
      ]
     },
     "execution_count": 28,
     "metadata": {},
     "output_type": "execute_result"
    }
   ],
   "source": [
    "# 전화번호 컬럼의 저장된 값 확인\n",
    "matzip['Tel'].value_counts()"
   ]
  },
  {
   "cell_type": "code",
   "execution_count": 29,
   "metadata": {},
   "outputs": [
    {
     "data": {
      "text/plain": [
       "50"
      ]
     },
     "execution_count": 29,
     "metadata": {},
     "output_type": "execute_result"
    }
   ],
   "source": [
    "# 전화번호 결측치 확인\n",
    "matzip['Tel'].isna().sum()"
   ]
  },
  {
   "cell_type": "code",
   "execution_count": 30,
   "metadata": {},
   "outputs": [
    {
     "data": {
      "text/plain": [
       "0"
      ]
     },
     "execution_count": 30,
     "metadata": {},
     "output_type": "execute_result"
    }
   ],
   "source": [
    "# 전화번호 결측치를 '번호없음'으로 채워준다.\n",
    "matzip['Tel'] = matzip['Tel'].fillna('번호없음')\n",
    "matzip['Tel'].isna().sum()"
   ]
  },
  {
   "cell_type": "markdown",
   "metadata": {},
   "source": [
    "### 주차공간"
   ]
  },
  {
   "cell_type": "code",
   "execution_count": 31,
   "metadata": {},
   "outputs": [
    {
     "data": {
      "text/plain": [
       "71"
      ]
     },
     "execution_count": 31,
     "metadata": {},
     "output_type": "execute_result"
    }
   ],
   "source": [
    "# 주차공간의 결측치를 확인한다.\n",
    "matzip['Parking'].isna().sum()"
   ]
  },
  {
   "cell_type": "code",
   "execution_count": 32,
   "metadata": {},
   "outputs": [
    {
     "data": {
      "text/plain": [
       "주차공간없음                199\n",
       "유료주차 가능                89\n",
       "무료주차 가능                24\n",
       "발렛                      8\n",
       "유료주차 가능 2시간 무료          3\n",
       "무료주차 가능 2시간 무료          2\n",
       "무료주차 가능 당일 무료           1\n",
       "유료주차 가능 1.5시간 무료        1\n",
       "유료주차 가능 주차권 2시간 제공      1\n",
       "유료주차 가능 1시간 무료          1\n",
       "Name: Parking, dtype: int64"
      ]
     },
     "execution_count": 32,
     "metadata": {},
     "output_type": "execute_result"
    }
   ],
   "source": [
    "# 주차공간에 저장되어 있는 갓들을 확인한다.\n",
    "matzip['Parking'].value_counts()"
   ]
  },
  {
   "cell_type": "code",
   "execution_count": 33,
   "metadata": {},
   "outputs": [
    {
     "data": {
      "text/plain": [
       "0"
      ]
     },
     "execution_count": 33,
     "metadata": {},
     "output_type": "execute_result"
    }
   ],
   "source": [
    "# 결측치 주차공간없음 으로 채워준다.\n",
    "matzip['Parking'] = matzip['Parking'].fillna('주차공간없음')\n",
    "matzip['Parking'].isna().sum()"
   ]
  },
  {
   "cell_type": "markdown",
   "metadata": {},
   "source": [
    "## 영업시간 결측치 처리"
   ]
  },
  {
   "cell_type": "code",
   "execution_count": 34,
   "metadata": {},
   "outputs": [
    {
     "data": {
      "text/plain": [
       "36"
      ]
     },
     "execution_count": 34,
     "metadata": {},
     "output_type": "execute_result"
    }
   ],
   "source": [
    "# 결측치 확인\n",
    "matzip['Operating Time'].isna().sum()\n"
   ]
  },
  {
   "cell_type": "code",
   "execution_count": 35,
   "metadata": {},
   "outputs": [
    {
     "data": {
      "text/plain": [
       "11:00 - 22:00                                           25\n",
       "11:30 - 21:30                                           15\n",
       "11:30 - 22:00                                           15\n",
       "00:00 - 24:00                                           12\n",
       "11:00 - 21:00                                           11\n",
       "                                                        ..\n",
       "08:00 - 20:30                                            1\n",
       "11:30 - 20:30                                            1\n",
       "07:30 - 21:00                                            1\n",
       "월-금: 11:30 - 24:00 토: 13:00 - 24:00 일: 13:00 - 23:00     1\n",
       "월-금: 08:00 - 20:00 토-일: 08:00 - 19:00                    1\n",
       "Name: Operating Time, Length: 204, dtype: int64"
      ]
     },
     "execution_count": 35,
     "metadata": {},
     "output_type": "execute_result"
    }
   ],
   "source": [
    "# 저장되어 있는 값 확인\n",
    "matzip['Operating Time'].value_counts()"
   ]
  },
  {
   "cell_type": "code",
   "execution_count": 36,
   "metadata": {},
   "outputs": [
    {
     "name": "stdout",
     "output_type": "stream",
     "text": [
      "11:00 - 22:00\n",
      "11:30 - 21:30\n",
      "11:30 - 22:00\n",
      "00:00 - 24:00\n",
      "11:00 - 21:00\n",
      "11:00 - 23:00\n",
      "10:00 - 22:00\n",
      "12:00 - 22:00\n",
      "11:30 - 23:00\n",
      "11:00 - 21:30\n",
      "12:00 - 24:00\n",
      "11:30 - 21:00\n",
      "11:00 - 24:00\n",
      "14:00 - 02:00\n",
      "17:00 - 01:00\n",
      "10:30 - 22:00\n",
      "10:00 - 23:00\n",
      "12:00 - 22:30\n",
      "12:00 - 20:00\n",
      "09:00 - 22:00\n",
      "10:00 - 22:30\n",
      "10:30 - 21:30\n",
      "10:00 - 24:00\n",
      "11:00 - 20:30\n",
      "11:00 - 23:30\n",
      "08:00 - 22:00\n",
      "18:00 - 03:00\n",
      "08:00 - 20:00\n",
      "16:00 - 01:00\n",
      "17:00 - 03:00\n",
      "12:00 - 19:00\n",
      "12:00 - 23:00\n",
      "10:00 - 21:00\n",
      "09:00 - 23:00\n",
      "08:00 - 23:00\n",
      "10:30 - 22:30\n",
      "11:00 - 18:00\n",
      "월-금: 11:00 - 22:00 토: 11:00 - 21:00\n",
      "12:00 - 21:30\n",
      "11:30 - 24:00\n",
      "월-금: 11:00 - 23:00 토-일: 11:00 - 22:00\n",
      "09:30 - 22:00\n",
      "10:00 - 05:00\n",
      "10:30 - 06:00\n",
      "11:00 - 05:00\n",
      "월-금: 08:00 - 22:30 토: 11:00 - 21:00 일: 12:00 - 20:00\n",
      "16:00 - 23:00\n",
      "06:30 - 22:00\n",
      "월-토: 11:00 - 03:00 일: 11:00 - 23:00\n",
      "월-목: 11:30 - 22:00 금-토: 11:30 - 23:00 일: 11:30 - 20:00\n",
      "화-토: 11:30 - 22:00 일: 11:30 - 21:00\n",
      "월-금: 07:00 - 23:00 토: 08:00 - 22:00 일: 08:00 - 20:00\n",
      "11:30 - 22:30\n",
      "월-금: 18:00 - 24:00 토: 18:00 - 02:00\n",
      "월-금: 07:30 - 20:00 일:10:00 - 19:00\n",
      "10:30 - 20:30\n",
      "월-금: 11:30 - 01:00 토: 17:30 - 01:00\n",
      "월-금: 15:00 - 12:50 토-일: 14:00 - 12:50\n",
      "월-금: 10:00 - 21:00 토-일: 10:00 - 21:30\n",
      "08:30 - 22:00\n",
      "10:30 - 01:00\n",
      "월-토: 11:30 - 23:00 일: 17:30 - 23:00\n",
      "17:00 - 04:00\n",
      "13:00 - 02:00\n",
      "월-토: 12:00 - 23:00 일: 17:00 - 23:00\n",
      "17:00 - 23:00\n",
      "월-금: 10:30 - 21:00 토-일: 10:30 - 22:00\n",
      "16:00 - 06:00\n",
      "12:30 - 19:00\n",
      "월-토: 10:30 - 21:00 일: 10:30 - 18:30\n",
      "월-금: 07:30 - 21:00 토: 08:00 - 21:00 일: 08:00 - 20:00\n",
      "월-금: 11:30 - 22:00 토-일: 12:00 -21:00\n",
      "월-금: 11:30 - 22:00 토: 11:30 - 20:00\n",
      "10:30 - 23:30\n",
      "11:00 - 19:00\n",
      "월-금: 11:00 - 22:00 토-일: 12:00 - 22:00\n",
      "월-금: 11:00 - 23:00 토-일: 11:00 - 21:30\n",
      "월-목: 10:30 - 20:00 금-일: 10:30 - 20:30\n",
      "08:10 - 22:30\n",
      "06:00 - 22:00\n",
      "13:00 - 22:00\n",
      "07:00 - 22:00\n",
      "월-금: 08:00 - 23:00 토-일: 09:00 - 23:00\n",
      "월-금: 06:30 - 21:20 토-일: 07:30 - 21:20\n",
      "월-금: 11:30 - 22:00 토-일: 11:30 - 21:30\n",
      "화-금: 11:30 - 22:00 토-일: 12:00 - 22:00\n",
      "10:30 - 02:30\n",
      "월-토: 09:30 - 19:30 일: 09:30 - 17:00\n",
      "월-금: 09:00 - 21:50 토-일: 09:00 - 21:00\n",
      "월-금: 11:00 - 22:00 토-일: 11:00 - 23:00\n",
      "월-금: 17:00 - 24:00 토-일: 12:00 - 24:00\n",
      "월-토: 12:00 - 23:00 일: 12:00 - 22:00\n",
      "12:00 - 02:00\n",
      "09:30 - 21:30\n",
      "월-금: 07:00 - 22:30 토-일: 09:00 - 22:00\n",
      "월-금: 08:30 - 19:00 토-일: 11:00 - 19:00\n",
      "월-토: 12:00 - 24:00 일: 12:00 - 20:00\n",
      "월-금: 14:00 - 00:30 토-일: 11:00 - 00:30\n",
      "17:00 - 01:30\n",
      "화-일: 12:00 - 21:00\n",
      "월-토: 11:00 - 23:00 일: 11:00 - 22:00\n",
      "월-금: 12:00 - 22:00 토-일: 12:00 - 23:00\n",
      "08:00 - 21:30\n",
      "월-목: 17:00 - 01:00 금-토: 17:00 - 02:00 일: 17:00 - 24:00\n",
      "월-토: 11:30 - 01:00 일: 11:30 - 23:00\n",
      "11:00 - 22:30\n",
      "일-수: 18:00 - 01:00 목-토: 18:00 - 02:30\n",
      "월-금: 16:00 - 24:00 토-일: 14:00 - 24:00\n",
      "월-금: 11:00 - 23:00 토: 12:00 - 22:00\n",
      "월-금: 11:30 - 22:00 토-일: 11:30 - 20:00\n",
      "월-토: 11:00 - 22:00 일: 11:00 - 21:00\n",
      "월-금: 10:30 - 22:00 토: 10:30 - 17:00\n",
      "월-금: 08:00 - 22:00 토-일: 12:00 - 21:30\n",
      "09:00 - 21:30\n",
      "10:00 - 10:00\n",
      "07:00 - 22:50\n",
      "월-금: 16:00 - 01:00 토-일: 16:00 - 24:00\n",
      "월-토: 10:00 - 22:30 일: 11:00 - 22:00\n",
      "09:00 - 21:00\n",
      "월-금: 11:00 - 21:00 토-일: 11:30 - 20:30\n",
      "월-금: 11:00 - 24:00 토: 11:00 - 22:00 일: 11:00 - 21:00\n",
      "16:30 - 01:30\n",
      "11:30 - 23:30\n",
      "화-금: 11:30 - 15:30 17:30 - 20:30 토-일: 12:00 - 15:30 18:00 - 20:30\n",
      "일-수: 09:00 - 23:00 목-토: 09:00 - 24:00\n",
      "11:00 - 20:00\n",
      "11:30 - 02:00\n",
      "월-금: 07:00 - 22:00 토: 09:00 - 20:00\n",
      "14:00 - 04:00\n",
      "10:30 - 24:00\n",
      "월-금: 11:00 - 23:00 토-일: 11:30 - 21:30\n",
      "월-금: 11:30 - 22:00 토: 11:30 - 15:00\n",
      "월-금: 08:00 - 20:00 토-일: 09:00 - 20:00\n",
      "11:30 - 14:30\n",
      "월-목: 18:00 - 24:00 금-토: 18:00 - 02:00\n",
      "11:30 - 21:50\n",
      "월: 11:00 - 22:00 화: 16:00 - 22:00 수-일: 11:00 - 22:00\n",
      "16:30 - 24:00\n",
      "10:30 - 20:00\n",
      "월-토: 11:30 - 21:00 일: 11:30 - 20:00\n",
      "일-목: 17:00 - 01:00 금-토: 17:00 - 03:00\n",
      "월-토: 09:00 - 22:40 일: 09:00 - 22:30\n",
      "월-금: 08:30 - 20:00 토: 10:00 - 22:00\n",
      "월-금: 11:30 - 21:00 토: 13:00 - 21:00\n",
      "월-금: 09:30 - 21:30 토: 09:00 - 14:30\n",
      "월-금: 11:00 - 23:00 토-일: 11:00 - 24:00\n",
      "15:00 - 24:00\n",
      "월-금: 07:30 - 22:00 토-일: 09:00 - 22:00\n",
      "10:00 - 18:00\n",
      "11:00 - 01:00\n",
      "14:30 - 02:00\n",
      "화-토: 12:00 - 22:00 일: 12:00 - 21:00\n",
      "07:00 - 22:30\n",
      "17:00 - 05:00\n",
      "월-금: 11:30 - 23:00 토-일: 13:00 - 23:00\n",
      "화-목: 14:00 - 22:00 금-토: 12:00 - 24:00 일: 13:00 - 20:00\n",
      "월-토: 17:00 - 01:50\n",
      "월-토: 13:00 - 01:30 일: 13:00 - 24:00\n",
      "월-금: 07:30 - 22:00 토-일: 08:00 - 20:00\n",
      "월-금: 11:30 - 21:30 토: 12:00 - 19:00\n",
      "09:00 - 23:30\n",
      "월-금: 07:30 - 22:00 토: 10:00 - 19:00\n",
      "월-토: 00:00 - 24:00 일: 10:00 - 21:00\n",
      "10:00 - 21:30\n",
      "월-목: 19:00 - 01:00 금-토: 19:00 - 02:00\n",
      "12:00 - 23:30\n",
      "일-목: 11:00 - 01:00 금-토: 11:00 - 02:00\n",
      "화-금: 11:30 - 21:50 토-일: 17:30 - 21:20\n",
      "월-금: 10:00 - 22:00 토: 11:00 - 18:00\n",
      "08:00 - 21:00\n",
      "월-금: 08:00 - 21:00 토-일: 10:00 - 21:00\n",
      "19:00 - 02:30\n",
      "월-금: 11:30 - 22:00 토-일: 12:00 - 22:00\n",
      "화-토: 11:30 - 21:30 일: 11:30 - 17:30\n",
      "17:00 - 24:00\n",
      "18:00 - 24:00\n",
      "월-금: 10:00 - 02:00 토-일: 10:00 - 01:30\n",
      "10:00 - 20:00\n",
      "월-토: 10:00 - 23:00 일: 11:00 - 20:00\n",
      "화-수: 11:00 - 19:00 목-월: 11:00 - 22:00\n",
      "화-토: 11:00 - 21:00 일: 12:00 - 18:00\n",
      "화-금: 12:00 - 21:00 토-일: 13:00 - 21:00\n",
      "월-금: 08:00 - 23:00 토-일: 08:00 - 22:00\n",
      "월-금: 07:00 - 21:00 토-일: 12:00 - 20:00\n",
      "월-금: 13:00 - 01:00 토-일: 13:00 - 24:00\n",
      "월-금: 17:00 - 02:00 토: 12:00 - 01:00 일: 12:00 - 02:00\n",
      "18:00 - 23:30\n",
      "월-토: 10:00 - 05:30 일: 10:00 - 24:00\n",
      "월-금: 08:00 - 22:30 토-일: 10:00 - 22:30\n",
      "07:00 - 20:00\n",
      "월-금: 10:30 - 20:00 토-일: 10:30 - 20:30\n",
      "10:00 - 07:00\n",
      "09:30 - 22:30\n",
      "13:30 - 03:00\n",
      "12:00 - 21:00\n",
      "10:00 - 01:00\n",
      "10:30 - 21:00\n",
      "12:00 - 20:30\n",
      "19:00 - 03:00\n",
      "08:00 - 20:30\n",
      "11:30 - 20:30\n",
      "07:30 - 21:00\n",
      "월-금: 11:30 - 24:00 토: 13:00 - 24:00 일: 13:00 - 23:00\n",
      "월-금: 08:00 - 20:00 토-일: 08:00 - 19:00\n"
     ]
    }
   ],
   "source": [
    "a1 = matzip['Operating Time'].value_counts().index\n",
    "for a2 in a1:\n",
    "    print(a2)"
   ]
  },
  {
   "cell_type": "code",
   "execution_count": 37,
   "metadata": {},
   "outputs": [
    {
     "data": {
      "text/plain": [
       "0"
      ]
     },
     "execution_count": 37,
     "metadata": {},
     "output_type": "execute_result"
    }
   ],
   "source": [
    "# 결측치를 00:00 - 24:00 로 채워준다.\n",
    "matzip['Operating Time'] = matzip['Operating Time'].fillna('00:00 - 24:00')\n",
    "matzip['Operating Time'].isna().sum()"
   ]
  },
  {
   "cell_type": "code",
   "execution_count": null,
   "metadata": {},
   "outputs": [],
   "source": []
  }
 ],
 "metadata": {
  "kernelspec": {
   "display_name": "Python 3",
   "language": "python",
   "name": "python3"
  },
  "language_info": {
   "codemirror_mode": {
    "name": "ipython",
    "version": 3
   },
   "file_extension": ".py",
   "mimetype": "text/x-python",
   "name": "python",
   "nbconvert_exporter": "python",
   "pygments_lexer": "ipython3",
   "version": "3.7.6"
  }
 },
 "nbformat": 4,
 "nbformat_minor": 4
}
